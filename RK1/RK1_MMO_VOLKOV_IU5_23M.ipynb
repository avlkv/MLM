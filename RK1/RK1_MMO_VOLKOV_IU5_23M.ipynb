{
  "nbformat": 4,
  "nbformat_minor": 0,
  "metadata": {
    "colab": {
      "name": "RK1_MMO_VOLKOV_IU5-23M",
      "provenance": [],
      "collapsed_sections": []
    },
    "kernelspec": {
      "name": "python3",
      "display_name": "Python 3"
    },
    "language_info": {
      "name": "python"
    }
  },
  "cells": [
    {
      "cell_type": "code",
      "execution_count": null,
      "metadata": {
        "id": "2-O3aaGsALlM"
      },
      "outputs": [],
      "source": [
        "import numpy as np\n",
        "import pandas as pd\n",
        "import seaborn as sns\n",
        "import scipy.stats as stats\n",
        "import matplotlib.pyplot as plt\n",
        "from sklearn.datasets import load_wine\n",
        "from sklearn.svm import LinearSVC\n",
        "from sklearn.feature_selection import SelectFromModel\n",
        "from sklearn.linear_model import LogisticRegression\n",
        "%matplotlib inline \n",
        "sns.set(style=\"ticks\")"
      ]
    },
    {
      "cell_type": "markdown",
      "source": [
        "# РК1\n",
        "## Тема: Методы обработки данных.\n",
        "## Студент: Волков Артём Сергеевич\n",
        "## Группа: ИУ5-23М\n",
        "## Номер по списку группы (вариант): 4\n",
        "### Вариант задачи №1 - 4\n",
        "Для набора данных проведите кодирование одного (произвольного) категориального признака с использованием метода \"label encoding\".\n",
        "\n",
        "### Вариант задачи №2 - 24\n",
        "Для набора данных для одного (произвольного) числового признака проведите обнаружение и удаление выбросов на основе 5% и 95% квантилей.\n",
        "\n",
        "### Дополнительное задание (по группам)\n",
        "Для произвольной колонки данных построить график \"Ящик с усами (boxplot)\"."
      ],
      "metadata": {
        "id": "gRxKVYR5Aloq"
      }
    },
    {
      "cell_type": "markdown",
      "source": [
        "# Задача 1 (№4)\n",
        "Для набора данных проведите кодирование одного (произвольного) категориального признака с использованием метода \"label encoding\"."
      ],
      "metadata": {
        "id": "4Swst_jcBgH4"
      }
    },
    {
      "cell_type": "markdown",
      "source": [
        "> Загрузка набора данных с характеристиками самолетов"
      ],
      "metadata": {
        "id": "SDSQ4VqpJOT8"
      }
    },
    {
      "cell_type": "code",
      "source": [
        "data = pd.read_csv('/content/drive/MyDrive/datasets/Aiplane_BlueBook.csv')\n",
        "data.head()"
      ],
      "metadata": {
        "colab": {
          "base_uri": "https://localhost:8080/",
          "height": 436
        },
        "id": "i1JG132aBgAa",
        "outputId": "2db30e68-343d-464e-9357-405d15b8c0f8"
      },
      "execution_count": null,
      "outputs": [
        {
          "output_type": "execute_result",
          "data": {
            "text/plain": [
              "               Model  Company Engine Type HP or lbs thr ea engine  \\\n",
              "0        15 AC Sedan  Aeronca      Piston                     145   \n",
              "1  11 CC Super Chief  Aeronca      Piston                      85   \n",
              "2        7 CCM Champ  Aeronca      Piston                      90   \n",
              "3         7 DC Champ  Aeronca      Piston                      85   \n",
              "4         7 AC Champ  Aeronca      Piston                      65   \n",
              "\n",
              "  Max speed Knots Rcmnd cruise Knots Stall Knots dirty  Fuel gal/lbs  \\\n",
              "0             104                 91                46          36.0   \n",
              "1              89                 83                44          15.0   \n",
              "2              90                 78                37          19.0   \n",
              "3              88                 78                37          19.0   \n",
              "4              83                 74                33          14.0   \n",
              "\n",
              "   All eng service ceiling Eng out service ceiling  ... Takeoff over 50ft  \\\n",
              "0                  13000.0                     NaN  ...             900.0   \n",
              "1                  12300.0                     NaN  ...             720.0   \n",
              "2                  16000.0                     NaN  ...             475.0   \n",
              "3                  13000.0                     NaN  ...             500.0   \n",
              "4                  12500.0                     NaN  ...             632.0   \n",
              "\n",
              "  Takeoff ground run  Landing over 50ft  Landing ground roll  \\\n",
              "0                NaN             1300.0                  NaN   \n",
              "1                NaN              800.0                  NaN   \n",
              "2                NaN              850.0                  NaN   \n",
              "3                NaN              850.0                  NaN   \n",
              "4                NaN              885.0                  NaN   \n",
              "\n",
              "   Gross weight lbs  Empty weight lbs Length ft/in Height ft/in  \\\n",
              "0              2050              1180         25/3         10/3   \n",
              "1              1350               820         20/7          8/9   \n",
              "2              1300               810         21/5          8/7   \n",
              "3              1300               800         21/5          8/7   \n",
              "4              1220               740         21/5          8/9   \n",
              "\n",
              "  Wing span ft/in Range N.M.  \n",
              "0            37/5        370  \n",
              "1            36/1        190  \n",
              "2            35/0        210  \n",
              "3            35/0        210  \n",
              "4            35/0        175  \n",
              "\n",
              "[5 rows x 22 columns]"
            ],
            "text/html": [
              "\n",
              "  <div id=\"df-dceeb7c7-f293-47fd-8efb-82ca9f819360\">\n",
              "    <div class=\"colab-df-container\">\n",
              "      <div>\n",
              "<style scoped>\n",
              "    .dataframe tbody tr th:only-of-type {\n",
              "        vertical-align: middle;\n",
              "    }\n",
              "\n",
              "    .dataframe tbody tr th {\n",
              "        vertical-align: top;\n",
              "    }\n",
              "\n",
              "    .dataframe thead th {\n",
              "        text-align: right;\n",
              "    }\n",
              "</style>\n",
              "<table border=\"1\" class=\"dataframe\">\n",
              "  <thead>\n",
              "    <tr style=\"text-align: right;\">\n",
              "      <th></th>\n",
              "      <th>Model</th>\n",
              "      <th>Company</th>\n",
              "      <th>Engine Type</th>\n",
              "      <th>HP or lbs thr ea engine</th>\n",
              "      <th>Max speed Knots</th>\n",
              "      <th>Rcmnd cruise Knots</th>\n",
              "      <th>Stall Knots dirty</th>\n",
              "      <th>Fuel gal/lbs</th>\n",
              "      <th>All eng service ceiling</th>\n",
              "      <th>Eng out service ceiling</th>\n",
              "      <th>...</th>\n",
              "      <th>Takeoff over 50ft</th>\n",
              "      <th>Takeoff ground run</th>\n",
              "      <th>Landing over 50ft</th>\n",
              "      <th>Landing ground roll</th>\n",
              "      <th>Gross weight lbs</th>\n",
              "      <th>Empty weight lbs</th>\n",
              "      <th>Length ft/in</th>\n",
              "      <th>Height ft/in</th>\n",
              "      <th>Wing span ft/in</th>\n",
              "      <th>Range N.M.</th>\n",
              "    </tr>\n",
              "  </thead>\n",
              "  <tbody>\n",
              "    <tr>\n",
              "      <th>0</th>\n",
              "      <td>15 AC Sedan</td>\n",
              "      <td>Aeronca</td>\n",
              "      <td>Piston</td>\n",
              "      <td>145</td>\n",
              "      <td>104</td>\n",
              "      <td>91</td>\n",
              "      <td>46</td>\n",
              "      <td>36.0</td>\n",
              "      <td>13000.0</td>\n",
              "      <td>NaN</td>\n",
              "      <td>...</td>\n",
              "      <td>900.0</td>\n",
              "      <td>NaN</td>\n",
              "      <td>1300.0</td>\n",
              "      <td>NaN</td>\n",
              "      <td>2050</td>\n",
              "      <td>1180</td>\n",
              "      <td>25/3</td>\n",
              "      <td>10/3</td>\n",
              "      <td>37/5</td>\n",
              "      <td>370</td>\n",
              "    </tr>\n",
              "    <tr>\n",
              "      <th>1</th>\n",
              "      <td>11 CC Super Chief</td>\n",
              "      <td>Aeronca</td>\n",
              "      <td>Piston</td>\n",
              "      <td>85</td>\n",
              "      <td>89</td>\n",
              "      <td>83</td>\n",
              "      <td>44</td>\n",
              "      <td>15.0</td>\n",
              "      <td>12300.0</td>\n",
              "      <td>NaN</td>\n",
              "      <td>...</td>\n",
              "      <td>720.0</td>\n",
              "      <td>NaN</td>\n",
              "      <td>800.0</td>\n",
              "      <td>NaN</td>\n",
              "      <td>1350</td>\n",
              "      <td>820</td>\n",
              "      <td>20/7</td>\n",
              "      <td>8/9</td>\n",
              "      <td>36/1</td>\n",
              "      <td>190</td>\n",
              "    </tr>\n",
              "    <tr>\n",
              "      <th>2</th>\n",
              "      <td>7 CCM Champ</td>\n",
              "      <td>Aeronca</td>\n",
              "      <td>Piston</td>\n",
              "      <td>90</td>\n",
              "      <td>90</td>\n",
              "      <td>78</td>\n",
              "      <td>37</td>\n",
              "      <td>19.0</td>\n",
              "      <td>16000.0</td>\n",
              "      <td>NaN</td>\n",
              "      <td>...</td>\n",
              "      <td>475.0</td>\n",
              "      <td>NaN</td>\n",
              "      <td>850.0</td>\n",
              "      <td>NaN</td>\n",
              "      <td>1300</td>\n",
              "      <td>810</td>\n",
              "      <td>21/5</td>\n",
              "      <td>8/7</td>\n",
              "      <td>35/0</td>\n",
              "      <td>210</td>\n",
              "    </tr>\n",
              "    <tr>\n",
              "      <th>3</th>\n",
              "      <td>7 DC Champ</td>\n",
              "      <td>Aeronca</td>\n",
              "      <td>Piston</td>\n",
              "      <td>85</td>\n",
              "      <td>88</td>\n",
              "      <td>78</td>\n",
              "      <td>37</td>\n",
              "      <td>19.0</td>\n",
              "      <td>13000.0</td>\n",
              "      <td>NaN</td>\n",
              "      <td>...</td>\n",
              "      <td>500.0</td>\n",
              "      <td>NaN</td>\n",
              "      <td>850.0</td>\n",
              "      <td>NaN</td>\n",
              "      <td>1300</td>\n",
              "      <td>800</td>\n",
              "      <td>21/5</td>\n",
              "      <td>8/7</td>\n",
              "      <td>35/0</td>\n",
              "      <td>210</td>\n",
              "    </tr>\n",
              "    <tr>\n",
              "      <th>4</th>\n",
              "      <td>7 AC Champ</td>\n",
              "      <td>Aeronca</td>\n",
              "      <td>Piston</td>\n",
              "      <td>65</td>\n",
              "      <td>83</td>\n",
              "      <td>74</td>\n",
              "      <td>33</td>\n",
              "      <td>14.0</td>\n",
              "      <td>12500.0</td>\n",
              "      <td>NaN</td>\n",
              "      <td>...</td>\n",
              "      <td>632.0</td>\n",
              "      <td>NaN</td>\n",
              "      <td>885.0</td>\n",
              "      <td>NaN</td>\n",
              "      <td>1220</td>\n",
              "      <td>740</td>\n",
              "      <td>21/5</td>\n",
              "      <td>8/9</td>\n",
              "      <td>35/0</td>\n",
              "      <td>175</td>\n",
              "    </tr>\n",
              "  </tbody>\n",
              "</table>\n",
              "<p>5 rows × 22 columns</p>\n",
              "</div>\n",
              "      <button class=\"colab-df-convert\" onclick=\"convertToInteractive('df-dceeb7c7-f293-47fd-8efb-82ca9f819360')\"\n",
              "              title=\"Convert this dataframe to an interactive table.\"\n",
              "              style=\"display:none;\">\n",
              "        \n",
              "  <svg xmlns=\"http://www.w3.org/2000/svg\" height=\"24px\"viewBox=\"0 0 24 24\"\n",
              "       width=\"24px\">\n",
              "    <path d=\"M0 0h24v24H0V0z\" fill=\"none\"/>\n",
              "    <path d=\"M18.56 5.44l.94 2.06.94-2.06 2.06-.94-2.06-.94-.94-2.06-.94 2.06-2.06.94zm-11 1L8.5 8.5l.94-2.06 2.06-.94-2.06-.94L8.5 2.5l-.94 2.06-2.06.94zm10 10l.94 2.06.94-2.06 2.06-.94-2.06-.94-.94-2.06-.94 2.06-2.06.94z\"/><path d=\"M17.41 7.96l-1.37-1.37c-.4-.4-.92-.59-1.43-.59-.52 0-1.04.2-1.43.59L10.3 9.45l-7.72 7.72c-.78.78-.78 2.05 0 2.83L4 21.41c.39.39.9.59 1.41.59.51 0 1.02-.2 1.41-.59l7.78-7.78 2.81-2.81c.8-.78.8-2.07 0-2.86zM5.41 20L4 18.59l7.72-7.72 1.47 1.35L5.41 20z\"/>\n",
              "  </svg>\n",
              "      </button>\n",
              "      \n",
              "  <style>\n",
              "    .colab-df-container {\n",
              "      display:flex;\n",
              "      flex-wrap:wrap;\n",
              "      gap: 12px;\n",
              "    }\n",
              "\n",
              "    .colab-df-convert {\n",
              "      background-color: #E8F0FE;\n",
              "      border: none;\n",
              "      border-radius: 50%;\n",
              "      cursor: pointer;\n",
              "      display: none;\n",
              "      fill: #1967D2;\n",
              "      height: 32px;\n",
              "      padding: 0 0 0 0;\n",
              "      width: 32px;\n",
              "    }\n",
              "\n",
              "    .colab-df-convert:hover {\n",
              "      background-color: #E2EBFA;\n",
              "      box-shadow: 0px 1px 2px rgba(60, 64, 67, 0.3), 0px 1px 3px 1px rgba(60, 64, 67, 0.15);\n",
              "      fill: #174EA6;\n",
              "    }\n",
              "\n",
              "    [theme=dark] .colab-df-convert {\n",
              "      background-color: #3B4455;\n",
              "      fill: #D2E3FC;\n",
              "    }\n",
              "\n",
              "    [theme=dark] .colab-df-convert:hover {\n",
              "      background-color: #434B5C;\n",
              "      box-shadow: 0px 1px 3px 1px rgba(0, 0, 0, 0.15);\n",
              "      filter: drop-shadow(0px 1px 2px rgba(0, 0, 0, 0.3));\n",
              "      fill: #FFFFFF;\n",
              "    }\n",
              "  </style>\n",
              "\n",
              "      <script>\n",
              "        const buttonEl =\n",
              "          document.querySelector('#df-dceeb7c7-f293-47fd-8efb-82ca9f819360 button.colab-df-convert');\n",
              "        buttonEl.style.display =\n",
              "          google.colab.kernel.accessAllowed ? 'block' : 'none';\n",
              "\n",
              "        async function convertToInteractive(key) {\n",
              "          const element = document.querySelector('#df-dceeb7c7-f293-47fd-8efb-82ca9f819360');\n",
              "          const dataTable =\n",
              "            await google.colab.kernel.invokeFunction('convertToInteractive',\n",
              "                                                     [key], {});\n",
              "          if (!dataTable) return;\n",
              "\n",
              "          const docLinkHtml = 'Like what you see? Visit the ' +\n",
              "            '<a target=\"_blank\" href=https://colab.research.google.com/notebooks/data_table.ipynb>data table notebook</a>'\n",
              "            + ' to learn more about interactive tables.';\n",
              "          element.innerHTML = '';\n",
              "          dataTable['output_type'] = 'display_data';\n",
              "          await google.colab.output.renderOutput(dataTable, element);\n",
              "          const docLink = document.createElement('div');\n",
              "          docLink.innerHTML = docLinkHtml;\n",
              "          element.appendChild(docLink);\n",
              "        }\n",
              "      </script>\n",
              "    </div>\n",
              "  </div>\n",
              "  "
            ]
          },
          "metadata": {},
          "execution_count": 33
        }
      ]
    },
    {
      "cell_type": "markdown",
      "source": [
        "> Удаление всех пропусков"
      ],
      "metadata": {
        "id": "YxN65fY6JV3G"
      }
    },
    {
      "cell_type": "code",
      "source": [
        "data = data.dropna(axis = 0, thresh = 22)"
      ],
      "metadata": {
        "id": "RtrBC87ZBf9w"
      },
      "execution_count": null,
      "outputs": []
    },
    {
      "cell_type": "markdown",
      "source": [
        "> Все пропуски удалены:"
      ],
      "metadata": {
        "id": "qt4sGu8DJaH_"
      }
    },
    {
      "cell_type": "code",
      "source": [
        "data.isna().sum()"
      ],
      "metadata": {
        "colab": {
          "base_uri": "https://localhost:8080/"
        },
        "id": "zQJinly4FORD",
        "outputId": "0281759f-2a14-4598-b6e1-75006986b997"
      },
      "execution_count": null,
      "outputs": [
        {
          "output_type": "execute_result",
          "data": {
            "text/plain": [
              "Model                      0\n",
              "Company                    0\n",
              "Engine Type                0\n",
              "HP or lbs thr ea engine    0\n",
              "Max speed Knots            0\n",
              "Rcmnd cruise Knots         0\n",
              "Stall Knots dirty          0\n",
              "Fuel gal/lbs               0\n",
              "All eng service ceiling    0\n",
              "Eng out service ceiling    0\n",
              "All eng rate of climb      0\n",
              "Eng out rate of climb      0\n",
              "Takeoff over 50ft          0\n",
              "Takeoff ground run         0\n",
              "Landing over 50ft          0\n",
              "Landing ground roll        0\n",
              "Gross weight lbs           0\n",
              "Empty weight lbs           0\n",
              "Length ft/in               0\n",
              "Height ft/in               0\n",
              "Wing span ft/in            0\n",
              "Range N.M.                 0\n",
              "dtype: int64"
            ]
          },
          "metadata": {},
          "execution_count": 46
        }
      ]
    },
    {
      "cell_type": "markdown",
      "source": [
        "> Импорт `LabelEncoder` для использования при преобразовании категорильных данных"
      ],
      "metadata": {
        "id": "pqhNf67CJerQ"
      }
    },
    {
      "cell_type": "code",
      "source": [
        "from sklearn.preprocessing import LabelEncoder"
      ],
      "metadata": {
        "id": "BJB6-HOqBf7i"
      },
      "execution_count": null,
      "outputs": []
    },
    {
      "cell_type": "markdown",
      "source": [
        "> \"Обучение\" `LabelEncoder` для преобразования значений колонки `Engine Type` (\"тип двигателя\")"
      ],
      "metadata": {
        "id": "Pn_zTKwPJoq2"
      }
    },
    {
      "cell_type": "code",
      "source": [
        "le = LabelEncoder()\n",
        "cat_enc_le = le.fit_transform(data['Engine Type'])"
      ],
      "metadata": {
        "id": "OYZE2wnMBf4q"
      },
      "execution_count": null,
      "outputs": []
    },
    {
      "cell_type": "markdown",
      "source": [
        "> Значения колонки `Engine Type` до преобразования:"
      ],
      "metadata": {
        "id": "k4WajH_SJ3FP"
      }
    },
    {
      "cell_type": "code",
      "source": [
        "data['Engine Type'].unique()"
      ],
      "metadata": {
        "colab": {
          "base_uri": "https://localhost:8080/"
        },
        "id": "CGN8VAl4Bf2J",
        "outputId": "aa17b7fc-31db-4745-caa3-4d4a7a0a9742"
      },
      "execution_count": null,
      "outputs": [
        {
          "output_type": "execute_result",
          "data": {
            "text/plain": [
              "array(['Piston', 'Propjet', 'Jet', 'piston', 'Pistion', 'TSIO 520',\n",
              "       'IO550', 'PT6A-35', 'PT6A-21'], dtype=object)"
            ]
          },
          "metadata": {},
          "execution_count": 37
        }
      ]
    },
    {
      "cell_type": "markdown",
      "source": [
        "> Значения колонки `Engine Type` до преобразования:"
      ],
      "metadata": {
        "id": "hBvBfzqNKAVe"
      }
    },
    {
      "cell_type": "code",
      "source": [
        "np.unique(cat_enc_le)"
      ],
      "metadata": {
        "colab": {
          "base_uri": "https://localhost:8080/"
        },
        "id": "Ttzc88bNBfzh",
        "outputId": "9085434b-1e68-430f-9a84-c44afc6f1d54"
      },
      "execution_count": null,
      "outputs": [
        {
          "output_type": "execute_result",
          "data": {
            "text/plain": [
              "array([0, 1, 2, 3, 4, 5, 6, 7, 8])"
            ]
          },
          "metadata": {},
          "execution_count": 38
        }
      ]
    },
    {
      "cell_type": "markdown",
      "source": [
        "> Обратное преобразование значений колонки:"
      ],
      "metadata": {
        "id": "9Msa_YS5KBNg"
      }
    },
    {
      "cell_type": "code",
      "source": [
        "le.inverse_transform([0, 1, 2, 3, 4, 5, 6, 7, 8])"
      ],
      "metadata": {
        "colab": {
          "base_uri": "https://localhost:8080/"
        },
        "id": "2NS9nZv4Bfwo",
        "outputId": "fbe5efaf-5fbf-47b9-e6a9-bd87d14f0eeb"
      },
      "execution_count": null,
      "outputs": [
        {
          "output_type": "execute_result",
          "data": {
            "text/plain": [
              "array(['IO550', 'Jet', 'PT6A-21', 'PT6A-35', 'Pistion', 'Piston',\n",
              "       'Propjet', 'TSIO 520', 'piston'], dtype=object)"
            ]
          },
          "metadata": {},
          "execution_count": 39
        }
      ]
    },
    {
      "cell_type": "markdown",
      "source": [
        "> Реальное преобразование колонки `Engine Type`:"
      ],
      "metadata": {
        "id": "QvfqXGoPKFVG"
      }
    },
    {
      "cell_type": "code",
      "source": [
        "data['Engine Type'] = le.fit_transform(data['Engine Type'])"
      ],
      "metadata": {
        "id": "TzPOn4v8BfuI"
      },
      "execution_count": null,
      "outputs": []
    },
    {
      "cell_type": "markdown",
      "source": [
        "> В измененной колонке теперь содержатся численные значения:"
      ],
      "metadata": {
        "id": "_YBpuj5BKJiW"
      }
    },
    {
      "cell_type": "code",
      "source": [
        "data.sample(5, random_state = 99)"
      ],
      "metadata": {
        "colab": {
          "base_uri": "https://localhost:8080/",
          "height": 488
        },
        "id": "e-VThamkElqK",
        "outputId": "7802ed49-bb18-484d-f99a-3dd098061a40"
      },
      "execution_count": null,
      "outputs": [
        {
          "output_type": "execute_result",
          "data": {
            "text/plain": [
              "                                           Model  \\\n",
              "730                          PA-22 135 Tri-Pacer   \n",
              "331  TU 206G (prior'79=12 gal less fuel+9/7 hgt)   \n",
              "21                              G164A-275 AG CAT   \n",
              "775                                   305 Rocket   \n",
              "829                        A-36 Bonanza Prop Jet   \n",
              "\n",
              "                              Company  Engine Type HP or lbs thr ea engine  \\\n",
              "730                    Piper Aircraft            5                     135   \n",
              "331           Cessna Aircraft Company            5                     310   \n",
              "21                        Ag Cat Corp            5                     275   \n",
              "775  Rocket Engineering / JetPROP LLC            7                     305   \n",
              "829                Tradewind Turbines            6                     450   \n",
              "\n",
              "    Max speed Knots Rcmnd cruise Knots Stall Knots dirty  Fuel gal/lbs  \\\n",
              "730             119                107                42          36.0   \n",
              "331             174                152                54          92.0   \n",
              "21              114                 74                54          33.0   \n",
              "775             230                215                60          75.0   \n",
              "829             220                220                57         114.0   \n",
              "\n",
              "     All eng service ceiling Eng out service ceiling  ... Takeoff over 50ft  \\\n",
              "730                  15000.0                     NaN  ...            1600.0   \n",
              "331                  27000.0                     NaN  ...            1640.0   \n",
              "21                   10250.0                     NaN  ...            1275.0   \n",
              "775                  24000.0                     NaN  ...            1200.0   \n",
              "829                  25000.0                     NaN  ...             900.0   \n",
              "\n",
              "    Takeoff ground run  Landing over 50ft  Landing ground roll  \\\n",
              "730             1120.0             1280.0                650.0   \n",
              "331              835.0             1395.0                735.0   \n",
              "21               800.0             1000.0                590.0   \n",
              "775              800.0             1500.0                900.0   \n",
              "829              600.0              525.0                325.0   \n",
              "\n",
              "     Gross weight lbs  Empty weight lbs Length ft/in Height ft/in  \\\n",
              "730              1850              1060         20/4          8/3   \n",
              "331              3600              2066         28/3          9/4   \n",
              "21               3750              2400         24/4         10/9   \n",
              "775              3200              2070         25/5          8/4   \n",
              "829              3849              2400         29/2          8/7   \n",
              "\n",
              "    Wing span ft/in Range N.M.  \n",
              "730            29/3        470  \n",
              "331           35/10        640  \n",
              "21             35/8        117  \n",
              "775            36/1        900  \n",
              "829            33/5        985  \n",
              "\n",
              "[5 rows x 22 columns]"
            ],
            "text/html": [
              "\n",
              "  <div id=\"df-9b6beeb9-018f-4384-8afe-25d8f8b26675\">\n",
              "    <div class=\"colab-df-container\">\n",
              "      <div>\n",
              "<style scoped>\n",
              "    .dataframe tbody tr th:only-of-type {\n",
              "        vertical-align: middle;\n",
              "    }\n",
              "\n",
              "    .dataframe tbody tr th {\n",
              "        vertical-align: top;\n",
              "    }\n",
              "\n",
              "    .dataframe thead th {\n",
              "        text-align: right;\n",
              "    }\n",
              "</style>\n",
              "<table border=\"1\" class=\"dataframe\">\n",
              "  <thead>\n",
              "    <tr style=\"text-align: right;\">\n",
              "      <th></th>\n",
              "      <th>Model</th>\n",
              "      <th>Company</th>\n",
              "      <th>Engine Type</th>\n",
              "      <th>HP or lbs thr ea engine</th>\n",
              "      <th>Max speed Knots</th>\n",
              "      <th>Rcmnd cruise Knots</th>\n",
              "      <th>Stall Knots dirty</th>\n",
              "      <th>Fuel gal/lbs</th>\n",
              "      <th>All eng service ceiling</th>\n",
              "      <th>Eng out service ceiling</th>\n",
              "      <th>...</th>\n",
              "      <th>Takeoff over 50ft</th>\n",
              "      <th>Takeoff ground run</th>\n",
              "      <th>Landing over 50ft</th>\n",
              "      <th>Landing ground roll</th>\n",
              "      <th>Gross weight lbs</th>\n",
              "      <th>Empty weight lbs</th>\n",
              "      <th>Length ft/in</th>\n",
              "      <th>Height ft/in</th>\n",
              "      <th>Wing span ft/in</th>\n",
              "      <th>Range N.M.</th>\n",
              "    </tr>\n",
              "  </thead>\n",
              "  <tbody>\n",
              "    <tr>\n",
              "      <th>730</th>\n",
              "      <td>PA-22 135 Tri-Pacer</td>\n",
              "      <td>Piper Aircraft</td>\n",
              "      <td>5</td>\n",
              "      <td>135</td>\n",
              "      <td>119</td>\n",
              "      <td>107</td>\n",
              "      <td>42</td>\n",
              "      <td>36.0</td>\n",
              "      <td>15000.0</td>\n",
              "      <td>NaN</td>\n",
              "      <td>...</td>\n",
              "      <td>1600.0</td>\n",
              "      <td>1120.0</td>\n",
              "      <td>1280.0</td>\n",
              "      <td>650.0</td>\n",
              "      <td>1850</td>\n",
              "      <td>1060</td>\n",
              "      <td>20/4</td>\n",
              "      <td>8/3</td>\n",
              "      <td>29/3</td>\n",
              "      <td>470</td>\n",
              "    </tr>\n",
              "    <tr>\n",
              "      <th>331</th>\n",
              "      <td>TU 206G (prior'79=12 gal less fuel+9/7 hgt)</td>\n",
              "      <td>Cessna Aircraft Company</td>\n",
              "      <td>5</td>\n",
              "      <td>310</td>\n",
              "      <td>174</td>\n",
              "      <td>152</td>\n",
              "      <td>54</td>\n",
              "      <td>92.0</td>\n",
              "      <td>27000.0</td>\n",
              "      <td>NaN</td>\n",
              "      <td>...</td>\n",
              "      <td>1640.0</td>\n",
              "      <td>835.0</td>\n",
              "      <td>1395.0</td>\n",
              "      <td>735.0</td>\n",
              "      <td>3600</td>\n",
              "      <td>2066</td>\n",
              "      <td>28/3</td>\n",
              "      <td>9/4</td>\n",
              "      <td>35/10</td>\n",
              "      <td>640</td>\n",
              "    </tr>\n",
              "    <tr>\n",
              "      <th>21</th>\n",
              "      <td>G164A-275 AG CAT</td>\n",
              "      <td>Ag Cat Corp</td>\n",
              "      <td>5</td>\n",
              "      <td>275</td>\n",
              "      <td>114</td>\n",
              "      <td>74</td>\n",
              "      <td>54</td>\n",
              "      <td>33.0</td>\n",
              "      <td>10250.0</td>\n",
              "      <td>NaN</td>\n",
              "      <td>...</td>\n",
              "      <td>1275.0</td>\n",
              "      <td>800.0</td>\n",
              "      <td>1000.0</td>\n",
              "      <td>590.0</td>\n",
              "      <td>3750</td>\n",
              "      <td>2400</td>\n",
              "      <td>24/4</td>\n",
              "      <td>10/9</td>\n",
              "      <td>35/8</td>\n",
              "      <td>117</td>\n",
              "    </tr>\n",
              "    <tr>\n",
              "      <th>775</th>\n",
              "      <td>305 Rocket</td>\n",
              "      <td>Rocket Engineering / JetPROP LLC</td>\n",
              "      <td>7</td>\n",
              "      <td>305</td>\n",
              "      <td>230</td>\n",
              "      <td>215</td>\n",
              "      <td>60</td>\n",
              "      <td>75.0</td>\n",
              "      <td>24000.0</td>\n",
              "      <td>NaN</td>\n",
              "      <td>...</td>\n",
              "      <td>1200.0</td>\n",
              "      <td>800.0</td>\n",
              "      <td>1500.0</td>\n",
              "      <td>900.0</td>\n",
              "      <td>3200</td>\n",
              "      <td>2070</td>\n",
              "      <td>25/5</td>\n",
              "      <td>8/4</td>\n",
              "      <td>36/1</td>\n",
              "      <td>900</td>\n",
              "    </tr>\n",
              "    <tr>\n",
              "      <th>829</th>\n",
              "      <td>A-36 Bonanza Prop Jet</td>\n",
              "      <td>Tradewind Turbines</td>\n",
              "      <td>6</td>\n",
              "      <td>450</td>\n",
              "      <td>220</td>\n",
              "      <td>220</td>\n",
              "      <td>57</td>\n",
              "      <td>114.0</td>\n",
              "      <td>25000.0</td>\n",
              "      <td>NaN</td>\n",
              "      <td>...</td>\n",
              "      <td>900.0</td>\n",
              "      <td>600.0</td>\n",
              "      <td>525.0</td>\n",
              "      <td>325.0</td>\n",
              "      <td>3849</td>\n",
              "      <td>2400</td>\n",
              "      <td>29/2</td>\n",
              "      <td>8/7</td>\n",
              "      <td>33/5</td>\n",
              "      <td>985</td>\n",
              "    </tr>\n",
              "  </tbody>\n",
              "</table>\n",
              "<p>5 rows × 22 columns</p>\n",
              "</div>\n",
              "      <button class=\"colab-df-convert\" onclick=\"convertToInteractive('df-9b6beeb9-018f-4384-8afe-25d8f8b26675')\"\n",
              "              title=\"Convert this dataframe to an interactive table.\"\n",
              "              style=\"display:none;\">\n",
              "        \n",
              "  <svg xmlns=\"http://www.w3.org/2000/svg\" height=\"24px\"viewBox=\"0 0 24 24\"\n",
              "       width=\"24px\">\n",
              "    <path d=\"M0 0h24v24H0V0z\" fill=\"none\"/>\n",
              "    <path d=\"M18.56 5.44l.94 2.06.94-2.06 2.06-.94-2.06-.94-.94-2.06-.94 2.06-2.06.94zm-11 1L8.5 8.5l.94-2.06 2.06-.94-2.06-.94L8.5 2.5l-.94 2.06-2.06.94zm10 10l.94 2.06.94-2.06 2.06-.94-2.06-.94-.94-2.06-.94 2.06-2.06.94z\"/><path d=\"M17.41 7.96l-1.37-1.37c-.4-.4-.92-.59-1.43-.59-.52 0-1.04.2-1.43.59L10.3 9.45l-7.72 7.72c-.78.78-.78 2.05 0 2.83L4 21.41c.39.39.9.59 1.41.59.51 0 1.02-.2 1.41-.59l7.78-7.78 2.81-2.81c.8-.78.8-2.07 0-2.86zM5.41 20L4 18.59l7.72-7.72 1.47 1.35L5.41 20z\"/>\n",
              "  </svg>\n",
              "      </button>\n",
              "      \n",
              "  <style>\n",
              "    .colab-df-container {\n",
              "      display:flex;\n",
              "      flex-wrap:wrap;\n",
              "      gap: 12px;\n",
              "    }\n",
              "\n",
              "    .colab-df-convert {\n",
              "      background-color: #E8F0FE;\n",
              "      border: none;\n",
              "      border-radius: 50%;\n",
              "      cursor: pointer;\n",
              "      display: none;\n",
              "      fill: #1967D2;\n",
              "      height: 32px;\n",
              "      padding: 0 0 0 0;\n",
              "      width: 32px;\n",
              "    }\n",
              "\n",
              "    .colab-df-convert:hover {\n",
              "      background-color: #E2EBFA;\n",
              "      box-shadow: 0px 1px 2px rgba(60, 64, 67, 0.3), 0px 1px 3px 1px rgba(60, 64, 67, 0.15);\n",
              "      fill: #174EA6;\n",
              "    }\n",
              "\n",
              "    [theme=dark] .colab-df-convert {\n",
              "      background-color: #3B4455;\n",
              "      fill: #D2E3FC;\n",
              "    }\n",
              "\n",
              "    [theme=dark] .colab-df-convert:hover {\n",
              "      background-color: #434B5C;\n",
              "      box-shadow: 0px 1px 3px 1px rgba(0, 0, 0, 0.15);\n",
              "      filter: drop-shadow(0px 1px 2px rgba(0, 0, 0, 0.3));\n",
              "      fill: #FFFFFF;\n",
              "    }\n",
              "  </style>\n",
              "\n",
              "      <script>\n",
              "        const buttonEl =\n",
              "          document.querySelector('#df-9b6beeb9-018f-4384-8afe-25d8f8b26675 button.colab-df-convert');\n",
              "        buttonEl.style.display =\n",
              "          google.colab.kernel.accessAllowed ? 'block' : 'none';\n",
              "\n",
              "        async function convertToInteractive(key) {\n",
              "          const element = document.querySelector('#df-9b6beeb9-018f-4384-8afe-25d8f8b26675');\n",
              "          const dataTable =\n",
              "            await google.colab.kernel.invokeFunction('convertToInteractive',\n",
              "                                                     [key], {});\n",
              "          if (!dataTable) return;\n",
              "\n",
              "          const docLinkHtml = 'Like what you see? Visit the ' +\n",
              "            '<a target=\"_blank\" href=https://colab.research.google.com/notebooks/data_table.ipynb>data table notebook</a>'\n",
              "            + ' to learn more about interactive tables.';\n",
              "          element.innerHTML = '';\n",
              "          dataTable['output_type'] = 'display_data';\n",
              "          await google.colab.output.renderOutput(dataTable, element);\n",
              "          const docLink = document.createElement('div');\n",
              "          docLink.innerHTML = docLinkHtml;\n",
              "          element.appendChild(docLink);\n",
              "        }\n",
              "      </script>\n",
              "    </div>\n",
              "  </div>\n",
              "  "
            ]
          },
          "metadata": {},
          "execution_count": 41
        }
      ]
    },
    {
      "cell_type": "markdown",
      "source": [
        "> Обратное преобразование значений колонки в наборе данных:"
      ],
      "metadata": {
        "id": "6CiKlp9SKQ-m"
      }
    },
    {
      "cell_type": "code",
      "source": [
        "data['Engine Type'] = le.inverse_transform(data['Engine Type'])"
      ],
      "metadata": {
        "id": "e9ionNp9EkEt"
      },
      "execution_count": null,
      "outputs": []
    },
    {
      "cell_type": "markdown",
      "source": [
        "> Набор данных после обратного преобразования:"
      ],
      "metadata": {
        "id": "YlsviO0rKVtw"
      }
    },
    {
      "cell_type": "code",
      "source": [
        "data.sample(5, random_state = 99)"
      ],
      "metadata": {
        "colab": {
          "base_uri": "https://localhost:8080/",
          "height": 488
        },
        "id": "Yao_u_J2EzRb",
        "outputId": "0509b61d-afcb-4449-a3af-1355912fc3d4"
      },
      "execution_count": null,
      "outputs": [
        {
          "output_type": "execute_result",
          "data": {
            "text/plain": [
              "                                           Model  \\\n",
              "730                          PA-22 135 Tri-Pacer   \n",
              "331  TU 206G (prior'79=12 gal less fuel+9/7 hgt)   \n",
              "21                              G164A-275 AG CAT   \n",
              "775                                   305 Rocket   \n",
              "829                        A-36 Bonanza Prop Jet   \n",
              "\n",
              "                              Company Engine Type HP or lbs thr ea engine  \\\n",
              "730                    Piper Aircraft      Piston                     135   \n",
              "331           Cessna Aircraft Company      Piston                     310   \n",
              "21                        Ag Cat Corp      Piston                     275   \n",
              "775  Rocket Engineering / JetPROP LLC    TSIO 520                     305   \n",
              "829                Tradewind Turbines     Propjet                     450   \n",
              "\n",
              "    Max speed Knots Rcmnd cruise Knots Stall Knots dirty  Fuel gal/lbs  \\\n",
              "730             119                107                42          36.0   \n",
              "331             174                152                54          92.0   \n",
              "21              114                 74                54          33.0   \n",
              "775             230                215                60          75.0   \n",
              "829             220                220                57         114.0   \n",
              "\n",
              "     All eng service ceiling Eng out service ceiling  ... Takeoff over 50ft  \\\n",
              "730                  15000.0                     NaN  ...            1600.0   \n",
              "331                  27000.0                     NaN  ...            1640.0   \n",
              "21                   10250.0                     NaN  ...            1275.0   \n",
              "775                  24000.0                     NaN  ...            1200.0   \n",
              "829                  25000.0                     NaN  ...             900.0   \n",
              "\n",
              "    Takeoff ground run  Landing over 50ft  Landing ground roll  \\\n",
              "730             1120.0             1280.0                650.0   \n",
              "331              835.0             1395.0                735.0   \n",
              "21               800.0             1000.0                590.0   \n",
              "775              800.0             1500.0                900.0   \n",
              "829              600.0              525.0                325.0   \n",
              "\n",
              "     Gross weight lbs  Empty weight lbs Length ft/in Height ft/in  \\\n",
              "730              1850              1060         20/4          8/3   \n",
              "331              3600              2066         28/3          9/4   \n",
              "21               3750              2400         24/4         10/9   \n",
              "775              3200              2070         25/5          8/4   \n",
              "829              3849              2400         29/2          8/7   \n",
              "\n",
              "    Wing span ft/in Range N.M.  \n",
              "730            29/3        470  \n",
              "331           35/10        640  \n",
              "21             35/8        117  \n",
              "775            36/1        900  \n",
              "829            33/5        985  \n",
              "\n",
              "[5 rows x 22 columns]"
            ],
            "text/html": [
              "\n",
              "  <div id=\"df-2a332952-5c5b-4382-97d6-0735fa74033a\">\n",
              "    <div class=\"colab-df-container\">\n",
              "      <div>\n",
              "<style scoped>\n",
              "    .dataframe tbody tr th:only-of-type {\n",
              "        vertical-align: middle;\n",
              "    }\n",
              "\n",
              "    .dataframe tbody tr th {\n",
              "        vertical-align: top;\n",
              "    }\n",
              "\n",
              "    .dataframe thead th {\n",
              "        text-align: right;\n",
              "    }\n",
              "</style>\n",
              "<table border=\"1\" class=\"dataframe\">\n",
              "  <thead>\n",
              "    <tr style=\"text-align: right;\">\n",
              "      <th></th>\n",
              "      <th>Model</th>\n",
              "      <th>Company</th>\n",
              "      <th>Engine Type</th>\n",
              "      <th>HP or lbs thr ea engine</th>\n",
              "      <th>Max speed Knots</th>\n",
              "      <th>Rcmnd cruise Knots</th>\n",
              "      <th>Stall Knots dirty</th>\n",
              "      <th>Fuel gal/lbs</th>\n",
              "      <th>All eng service ceiling</th>\n",
              "      <th>Eng out service ceiling</th>\n",
              "      <th>...</th>\n",
              "      <th>Takeoff over 50ft</th>\n",
              "      <th>Takeoff ground run</th>\n",
              "      <th>Landing over 50ft</th>\n",
              "      <th>Landing ground roll</th>\n",
              "      <th>Gross weight lbs</th>\n",
              "      <th>Empty weight lbs</th>\n",
              "      <th>Length ft/in</th>\n",
              "      <th>Height ft/in</th>\n",
              "      <th>Wing span ft/in</th>\n",
              "      <th>Range N.M.</th>\n",
              "    </tr>\n",
              "  </thead>\n",
              "  <tbody>\n",
              "    <tr>\n",
              "      <th>730</th>\n",
              "      <td>PA-22 135 Tri-Pacer</td>\n",
              "      <td>Piper Aircraft</td>\n",
              "      <td>Piston</td>\n",
              "      <td>135</td>\n",
              "      <td>119</td>\n",
              "      <td>107</td>\n",
              "      <td>42</td>\n",
              "      <td>36.0</td>\n",
              "      <td>15000.0</td>\n",
              "      <td>NaN</td>\n",
              "      <td>...</td>\n",
              "      <td>1600.0</td>\n",
              "      <td>1120.0</td>\n",
              "      <td>1280.0</td>\n",
              "      <td>650.0</td>\n",
              "      <td>1850</td>\n",
              "      <td>1060</td>\n",
              "      <td>20/4</td>\n",
              "      <td>8/3</td>\n",
              "      <td>29/3</td>\n",
              "      <td>470</td>\n",
              "    </tr>\n",
              "    <tr>\n",
              "      <th>331</th>\n",
              "      <td>TU 206G (prior'79=12 gal less fuel+9/7 hgt)</td>\n",
              "      <td>Cessna Aircraft Company</td>\n",
              "      <td>Piston</td>\n",
              "      <td>310</td>\n",
              "      <td>174</td>\n",
              "      <td>152</td>\n",
              "      <td>54</td>\n",
              "      <td>92.0</td>\n",
              "      <td>27000.0</td>\n",
              "      <td>NaN</td>\n",
              "      <td>...</td>\n",
              "      <td>1640.0</td>\n",
              "      <td>835.0</td>\n",
              "      <td>1395.0</td>\n",
              "      <td>735.0</td>\n",
              "      <td>3600</td>\n",
              "      <td>2066</td>\n",
              "      <td>28/3</td>\n",
              "      <td>9/4</td>\n",
              "      <td>35/10</td>\n",
              "      <td>640</td>\n",
              "    </tr>\n",
              "    <tr>\n",
              "      <th>21</th>\n",
              "      <td>G164A-275 AG CAT</td>\n",
              "      <td>Ag Cat Corp</td>\n",
              "      <td>Piston</td>\n",
              "      <td>275</td>\n",
              "      <td>114</td>\n",
              "      <td>74</td>\n",
              "      <td>54</td>\n",
              "      <td>33.0</td>\n",
              "      <td>10250.0</td>\n",
              "      <td>NaN</td>\n",
              "      <td>...</td>\n",
              "      <td>1275.0</td>\n",
              "      <td>800.0</td>\n",
              "      <td>1000.0</td>\n",
              "      <td>590.0</td>\n",
              "      <td>3750</td>\n",
              "      <td>2400</td>\n",
              "      <td>24/4</td>\n",
              "      <td>10/9</td>\n",
              "      <td>35/8</td>\n",
              "      <td>117</td>\n",
              "    </tr>\n",
              "    <tr>\n",
              "      <th>775</th>\n",
              "      <td>305 Rocket</td>\n",
              "      <td>Rocket Engineering / JetPROP LLC</td>\n",
              "      <td>TSIO 520</td>\n",
              "      <td>305</td>\n",
              "      <td>230</td>\n",
              "      <td>215</td>\n",
              "      <td>60</td>\n",
              "      <td>75.0</td>\n",
              "      <td>24000.0</td>\n",
              "      <td>NaN</td>\n",
              "      <td>...</td>\n",
              "      <td>1200.0</td>\n",
              "      <td>800.0</td>\n",
              "      <td>1500.0</td>\n",
              "      <td>900.0</td>\n",
              "      <td>3200</td>\n",
              "      <td>2070</td>\n",
              "      <td>25/5</td>\n",
              "      <td>8/4</td>\n",
              "      <td>36/1</td>\n",
              "      <td>900</td>\n",
              "    </tr>\n",
              "    <tr>\n",
              "      <th>829</th>\n",
              "      <td>A-36 Bonanza Prop Jet</td>\n",
              "      <td>Tradewind Turbines</td>\n",
              "      <td>Propjet</td>\n",
              "      <td>450</td>\n",
              "      <td>220</td>\n",
              "      <td>220</td>\n",
              "      <td>57</td>\n",
              "      <td>114.0</td>\n",
              "      <td>25000.0</td>\n",
              "      <td>NaN</td>\n",
              "      <td>...</td>\n",
              "      <td>900.0</td>\n",
              "      <td>600.0</td>\n",
              "      <td>525.0</td>\n",
              "      <td>325.0</td>\n",
              "      <td>3849</td>\n",
              "      <td>2400</td>\n",
              "      <td>29/2</td>\n",
              "      <td>8/7</td>\n",
              "      <td>33/5</td>\n",
              "      <td>985</td>\n",
              "    </tr>\n",
              "  </tbody>\n",
              "</table>\n",
              "<p>5 rows × 22 columns</p>\n",
              "</div>\n",
              "      <button class=\"colab-df-convert\" onclick=\"convertToInteractive('df-2a332952-5c5b-4382-97d6-0735fa74033a')\"\n",
              "              title=\"Convert this dataframe to an interactive table.\"\n",
              "              style=\"display:none;\">\n",
              "        \n",
              "  <svg xmlns=\"http://www.w3.org/2000/svg\" height=\"24px\"viewBox=\"0 0 24 24\"\n",
              "       width=\"24px\">\n",
              "    <path d=\"M0 0h24v24H0V0z\" fill=\"none\"/>\n",
              "    <path d=\"M18.56 5.44l.94 2.06.94-2.06 2.06-.94-2.06-.94-.94-2.06-.94 2.06-2.06.94zm-11 1L8.5 8.5l.94-2.06 2.06-.94-2.06-.94L8.5 2.5l-.94 2.06-2.06.94zm10 10l.94 2.06.94-2.06 2.06-.94-2.06-.94-.94-2.06-.94 2.06-2.06.94z\"/><path d=\"M17.41 7.96l-1.37-1.37c-.4-.4-.92-.59-1.43-.59-.52 0-1.04.2-1.43.59L10.3 9.45l-7.72 7.72c-.78.78-.78 2.05 0 2.83L4 21.41c.39.39.9.59 1.41.59.51 0 1.02-.2 1.41-.59l7.78-7.78 2.81-2.81c.8-.78.8-2.07 0-2.86zM5.41 20L4 18.59l7.72-7.72 1.47 1.35L5.41 20z\"/>\n",
              "  </svg>\n",
              "      </button>\n",
              "      \n",
              "  <style>\n",
              "    .colab-df-container {\n",
              "      display:flex;\n",
              "      flex-wrap:wrap;\n",
              "      gap: 12px;\n",
              "    }\n",
              "\n",
              "    .colab-df-convert {\n",
              "      background-color: #E8F0FE;\n",
              "      border: none;\n",
              "      border-radius: 50%;\n",
              "      cursor: pointer;\n",
              "      display: none;\n",
              "      fill: #1967D2;\n",
              "      height: 32px;\n",
              "      padding: 0 0 0 0;\n",
              "      width: 32px;\n",
              "    }\n",
              "\n",
              "    .colab-df-convert:hover {\n",
              "      background-color: #E2EBFA;\n",
              "      box-shadow: 0px 1px 2px rgba(60, 64, 67, 0.3), 0px 1px 3px 1px rgba(60, 64, 67, 0.15);\n",
              "      fill: #174EA6;\n",
              "    }\n",
              "\n",
              "    [theme=dark] .colab-df-convert {\n",
              "      background-color: #3B4455;\n",
              "      fill: #D2E3FC;\n",
              "    }\n",
              "\n",
              "    [theme=dark] .colab-df-convert:hover {\n",
              "      background-color: #434B5C;\n",
              "      box-shadow: 0px 1px 3px 1px rgba(0, 0, 0, 0.15);\n",
              "      filter: drop-shadow(0px 1px 2px rgba(0, 0, 0, 0.3));\n",
              "      fill: #FFFFFF;\n",
              "    }\n",
              "  </style>\n",
              "\n",
              "      <script>\n",
              "        const buttonEl =\n",
              "          document.querySelector('#df-2a332952-5c5b-4382-97d6-0735fa74033a button.colab-df-convert');\n",
              "        buttonEl.style.display =\n",
              "          google.colab.kernel.accessAllowed ? 'block' : 'none';\n",
              "\n",
              "        async function convertToInteractive(key) {\n",
              "          const element = document.querySelector('#df-2a332952-5c5b-4382-97d6-0735fa74033a');\n",
              "          const dataTable =\n",
              "            await google.colab.kernel.invokeFunction('convertToInteractive',\n",
              "                                                     [key], {});\n",
              "          if (!dataTable) return;\n",
              "\n",
              "          const docLinkHtml = 'Like what you see? Visit the ' +\n",
              "            '<a target=\"_blank\" href=https://colab.research.google.com/notebooks/data_table.ipynb>data table notebook</a>'\n",
              "            + ' to learn more about interactive tables.';\n",
              "          element.innerHTML = '';\n",
              "          dataTable['output_type'] = 'display_data';\n",
              "          await google.colab.output.renderOutput(dataTable, element);\n",
              "          const docLink = document.createElement('div');\n",
              "          docLink.innerHTML = docLinkHtml;\n",
              "          element.appendChild(docLink);\n",
              "        }\n",
              "      </script>\n",
              "    </div>\n",
              "  </div>\n",
              "  "
            ]
          },
          "metadata": {},
          "execution_count": 43
        }
      ]
    },
    {
      "cell_type": "markdown",
      "source": [
        "# Задача 2 (№24)\n",
        "Для набора данных для одного (произвольного) числового признака проведите обнаружение и удаление выбросов на основе 5% и 95% квантилей."
      ],
      "metadata": {
        "id": "-8Z_BHipBoSq"
      }
    },
    {
      "cell_type": "markdown",
      "source": [
        "> Загрузка набора данных с характеристиками самолетов без пропусков:"
      ],
      "metadata": {
        "id": "SFHO5RaSKcu5"
      }
    },
    {
      "cell_type": "code",
      "source": [
        "data = pd.read_csv('/content/drive/MyDrive/datasets/cleaned_data_airplanes.csv')"
      ],
      "metadata": {
        "id": "a3Ey-D6ND2hl"
      },
      "execution_count": null,
      "outputs": []
    },
    {
      "cell_type": "markdown",
      "source": [
        "> Удаление лишних колонок:"
      ],
      "metadata": {
        "id": "IeuL1dO8KiTQ"
      }
    },
    {
      "cell_type": "code",
      "source": [
        "data = data.drop(['Range N.M._log', 'Range N.M._reciprocal',\n",
        "       'Range N.M._sqr', 'Range N.M._exp1', 'Range N.M._exp2',\n",
        "       'Range N.M._exp3', 'Range N.M._exp4', 'Range N.M._boxcox', 'row_num'], axis = 1)"
      ],
      "metadata": {
        "id": "8KWOqIsWIsO3"
      },
      "execution_count": null,
      "outputs": []
    },
    {
      "cell_type": "markdown",
      "source": [
        "> Вид набора данных:"
      ],
      "metadata": {
        "id": "ee1RcrH1KlTX"
      }
    },
    {
      "cell_type": "code",
      "source": [
        "data.head()"
      ],
      "metadata": {
        "colab": {
          "base_uri": "https://localhost:8080/",
          "height": 406
        },
        "id": "3WnyxRXqHJ0N",
        "outputId": "029b21d5-4fb9-4f2c-f403-51c54eea6f62"
      },
      "execution_count": null,
      "outputs": [
        {
          "output_type": "execute_result",
          "data": {
            "text/plain": [
              "               Model  Company Engine Type HP or lbs thr ea engine  \\\n",
              "0        15 AC Sedan  Aeronca      Piston                     145   \n",
              "1  11 CC Super Chief  Aeronca      Piston                      85   \n",
              "2        7 CCM Champ  Aeronca      Piston                      90   \n",
              "3         7 DC Champ  Aeronca      Piston                      85   \n",
              "4         7 AC Champ  Aeronca      Piston                      65   \n",
              "\n",
              "  Max speed Knots  Rcmnd cruise Knots  Stall Knots dirty  \\\n",
              "0             104                91.0               46.0   \n",
              "1              89                83.0               44.0   \n",
              "2              90                78.0               37.0   \n",
              "3              88                78.0               37.0   \n",
              "4              83                74.0               33.0   \n",
              "\n",
              "  All eng rate of climb Gross weight lbs  Empty weight lbs Length ft/in  \\\n",
              "0                   450             2050            1180.0         25/3   \n",
              "1                   600             1350             820.0         20/7   \n",
              "2                   650             1300             810.0         21/5   \n",
              "3                   620             1300             800.0         21/5   \n",
              "4                   370             1220             740.0         21/5   \n",
              "\n",
              "  Height ft/in Wing span ft/in  Range N.M.  Fuel gal/lbs  \\\n",
              "0         10/3            37/5       370.0          36.0   \n",
              "1          8/9            36/1       190.0          15.0   \n",
              "2          8/7            35/0       210.0          19.0   \n",
              "3          8/7            35/0       210.0          19.0   \n",
              "4          8/9            35/0       175.0          14.0   \n",
              "\n",
              "   All eng service ceiling  Takeoff over 50ft  Takeoff ground run  \\\n",
              "0                  13000.0              900.0         1013.678850   \n",
              "1                  12300.0              720.0          907.323545   \n",
              "2                  16000.0              475.0         1071.689468   \n",
              "3                  13000.0              500.0         1060.980507   \n",
              "4                  12500.0              632.0          990.702907   \n",
              "\n",
              "   Landing over 50ft  Landing ground roll  \n",
              "0             1300.0           572.706741  \n",
              "1              800.0           537.637167  \n",
              "2              850.0           634.209014  \n",
              "3              850.0           672.914759  \n",
              "4              885.0           565.608815  "
            ],
            "text/html": [
              "\n",
              "  <div id=\"df-bc3908b3-d880-4cd4-89ee-9bb3bba81595\">\n",
              "    <div class=\"colab-df-container\">\n",
              "      <div>\n",
              "<style scoped>\n",
              "    .dataframe tbody tr th:only-of-type {\n",
              "        vertical-align: middle;\n",
              "    }\n",
              "\n",
              "    .dataframe tbody tr th {\n",
              "        vertical-align: top;\n",
              "    }\n",
              "\n",
              "    .dataframe thead th {\n",
              "        text-align: right;\n",
              "    }\n",
              "</style>\n",
              "<table border=\"1\" class=\"dataframe\">\n",
              "  <thead>\n",
              "    <tr style=\"text-align: right;\">\n",
              "      <th></th>\n",
              "      <th>Model</th>\n",
              "      <th>Company</th>\n",
              "      <th>Engine Type</th>\n",
              "      <th>HP or lbs thr ea engine</th>\n",
              "      <th>Max speed Knots</th>\n",
              "      <th>Rcmnd cruise Knots</th>\n",
              "      <th>Stall Knots dirty</th>\n",
              "      <th>All eng rate of climb</th>\n",
              "      <th>Gross weight lbs</th>\n",
              "      <th>Empty weight lbs</th>\n",
              "      <th>Length ft/in</th>\n",
              "      <th>Height ft/in</th>\n",
              "      <th>Wing span ft/in</th>\n",
              "      <th>Range N.M.</th>\n",
              "      <th>Fuel gal/lbs</th>\n",
              "      <th>All eng service ceiling</th>\n",
              "      <th>Takeoff over 50ft</th>\n",
              "      <th>Takeoff ground run</th>\n",
              "      <th>Landing over 50ft</th>\n",
              "      <th>Landing ground roll</th>\n",
              "    </tr>\n",
              "  </thead>\n",
              "  <tbody>\n",
              "    <tr>\n",
              "      <th>0</th>\n",
              "      <td>15 AC Sedan</td>\n",
              "      <td>Aeronca</td>\n",
              "      <td>Piston</td>\n",
              "      <td>145</td>\n",
              "      <td>104</td>\n",
              "      <td>91.0</td>\n",
              "      <td>46.0</td>\n",
              "      <td>450</td>\n",
              "      <td>2050</td>\n",
              "      <td>1180.0</td>\n",
              "      <td>25/3</td>\n",
              "      <td>10/3</td>\n",
              "      <td>37/5</td>\n",
              "      <td>370.0</td>\n",
              "      <td>36.0</td>\n",
              "      <td>13000.0</td>\n",
              "      <td>900.0</td>\n",
              "      <td>1013.678850</td>\n",
              "      <td>1300.0</td>\n",
              "      <td>572.706741</td>\n",
              "    </tr>\n",
              "    <tr>\n",
              "      <th>1</th>\n",
              "      <td>11 CC Super Chief</td>\n",
              "      <td>Aeronca</td>\n",
              "      <td>Piston</td>\n",
              "      <td>85</td>\n",
              "      <td>89</td>\n",
              "      <td>83.0</td>\n",
              "      <td>44.0</td>\n",
              "      <td>600</td>\n",
              "      <td>1350</td>\n",
              "      <td>820.0</td>\n",
              "      <td>20/7</td>\n",
              "      <td>8/9</td>\n",
              "      <td>36/1</td>\n",
              "      <td>190.0</td>\n",
              "      <td>15.0</td>\n",
              "      <td>12300.0</td>\n",
              "      <td>720.0</td>\n",
              "      <td>907.323545</td>\n",
              "      <td>800.0</td>\n",
              "      <td>537.637167</td>\n",
              "    </tr>\n",
              "    <tr>\n",
              "      <th>2</th>\n",
              "      <td>7 CCM Champ</td>\n",
              "      <td>Aeronca</td>\n",
              "      <td>Piston</td>\n",
              "      <td>90</td>\n",
              "      <td>90</td>\n",
              "      <td>78.0</td>\n",
              "      <td>37.0</td>\n",
              "      <td>650</td>\n",
              "      <td>1300</td>\n",
              "      <td>810.0</td>\n",
              "      <td>21/5</td>\n",
              "      <td>8/7</td>\n",
              "      <td>35/0</td>\n",
              "      <td>210.0</td>\n",
              "      <td>19.0</td>\n",
              "      <td>16000.0</td>\n",
              "      <td>475.0</td>\n",
              "      <td>1071.689468</td>\n",
              "      <td>850.0</td>\n",
              "      <td>634.209014</td>\n",
              "    </tr>\n",
              "    <tr>\n",
              "      <th>3</th>\n",
              "      <td>7 DC Champ</td>\n",
              "      <td>Aeronca</td>\n",
              "      <td>Piston</td>\n",
              "      <td>85</td>\n",
              "      <td>88</td>\n",
              "      <td>78.0</td>\n",
              "      <td>37.0</td>\n",
              "      <td>620</td>\n",
              "      <td>1300</td>\n",
              "      <td>800.0</td>\n",
              "      <td>21/5</td>\n",
              "      <td>8/7</td>\n",
              "      <td>35/0</td>\n",
              "      <td>210.0</td>\n",
              "      <td>19.0</td>\n",
              "      <td>13000.0</td>\n",
              "      <td>500.0</td>\n",
              "      <td>1060.980507</td>\n",
              "      <td>850.0</td>\n",
              "      <td>672.914759</td>\n",
              "    </tr>\n",
              "    <tr>\n",
              "      <th>4</th>\n",
              "      <td>7 AC Champ</td>\n",
              "      <td>Aeronca</td>\n",
              "      <td>Piston</td>\n",
              "      <td>65</td>\n",
              "      <td>83</td>\n",
              "      <td>74.0</td>\n",
              "      <td>33.0</td>\n",
              "      <td>370</td>\n",
              "      <td>1220</td>\n",
              "      <td>740.0</td>\n",
              "      <td>21/5</td>\n",
              "      <td>8/9</td>\n",
              "      <td>35/0</td>\n",
              "      <td>175.0</td>\n",
              "      <td>14.0</td>\n",
              "      <td>12500.0</td>\n",
              "      <td>632.0</td>\n",
              "      <td>990.702907</td>\n",
              "      <td>885.0</td>\n",
              "      <td>565.608815</td>\n",
              "    </tr>\n",
              "  </tbody>\n",
              "</table>\n",
              "</div>\n",
              "      <button class=\"colab-df-convert\" onclick=\"convertToInteractive('df-bc3908b3-d880-4cd4-89ee-9bb3bba81595')\"\n",
              "              title=\"Convert this dataframe to an interactive table.\"\n",
              "              style=\"display:none;\">\n",
              "        \n",
              "  <svg xmlns=\"http://www.w3.org/2000/svg\" height=\"24px\"viewBox=\"0 0 24 24\"\n",
              "       width=\"24px\">\n",
              "    <path d=\"M0 0h24v24H0V0z\" fill=\"none\"/>\n",
              "    <path d=\"M18.56 5.44l.94 2.06.94-2.06 2.06-.94-2.06-.94-.94-2.06-.94 2.06-2.06.94zm-11 1L8.5 8.5l.94-2.06 2.06-.94-2.06-.94L8.5 2.5l-.94 2.06-2.06.94zm10 10l.94 2.06.94-2.06 2.06-.94-2.06-.94-.94-2.06-.94 2.06-2.06.94z\"/><path d=\"M17.41 7.96l-1.37-1.37c-.4-.4-.92-.59-1.43-.59-.52 0-1.04.2-1.43.59L10.3 9.45l-7.72 7.72c-.78.78-.78 2.05 0 2.83L4 21.41c.39.39.9.59 1.41.59.51 0 1.02-.2 1.41-.59l7.78-7.78 2.81-2.81c.8-.78.8-2.07 0-2.86zM5.41 20L4 18.59l7.72-7.72 1.47 1.35L5.41 20z\"/>\n",
              "  </svg>\n",
              "      </button>\n",
              "      \n",
              "  <style>\n",
              "    .colab-df-container {\n",
              "      display:flex;\n",
              "      flex-wrap:wrap;\n",
              "      gap: 12px;\n",
              "    }\n",
              "\n",
              "    .colab-df-convert {\n",
              "      background-color: #E8F0FE;\n",
              "      border: none;\n",
              "      border-radius: 50%;\n",
              "      cursor: pointer;\n",
              "      display: none;\n",
              "      fill: #1967D2;\n",
              "      height: 32px;\n",
              "      padding: 0 0 0 0;\n",
              "      width: 32px;\n",
              "    }\n",
              "\n",
              "    .colab-df-convert:hover {\n",
              "      background-color: #E2EBFA;\n",
              "      box-shadow: 0px 1px 2px rgba(60, 64, 67, 0.3), 0px 1px 3px 1px rgba(60, 64, 67, 0.15);\n",
              "      fill: #174EA6;\n",
              "    }\n",
              "\n",
              "    [theme=dark] .colab-df-convert {\n",
              "      background-color: #3B4455;\n",
              "      fill: #D2E3FC;\n",
              "    }\n",
              "\n",
              "    [theme=dark] .colab-df-convert:hover {\n",
              "      background-color: #434B5C;\n",
              "      box-shadow: 0px 1px 3px 1px rgba(0, 0, 0, 0.15);\n",
              "      filter: drop-shadow(0px 1px 2px rgba(0, 0, 0, 0.3));\n",
              "      fill: #FFFFFF;\n",
              "    }\n",
              "  </style>\n",
              "\n",
              "      <script>\n",
              "        const buttonEl =\n",
              "          document.querySelector('#df-bc3908b3-d880-4cd4-89ee-9bb3bba81595 button.colab-df-convert');\n",
              "        buttonEl.style.display =\n",
              "          google.colab.kernel.accessAllowed ? 'block' : 'none';\n",
              "\n",
              "        async function convertToInteractive(key) {\n",
              "          const element = document.querySelector('#df-bc3908b3-d880-4cd4-89ee-9bb3bba81595');\n",
              "          const dataTable =\n",
              "            await google.colab.kernel.invokeFunction('convertToInteractive',\n",
              "                                                     [key], {});\n",
              "          if (!dataTable) return;\n",
              "\n",
              "          const docLinkHtml = 'Like what you see? Visit the ' +\n",
              "            '<a target=\"_blank\" href=https://colab.research.google.com/notebooks/data_table.ipynb>data table notebook</a>'\n",
              "            + ' to learn more about interactive tables.';\n",
              "          element.innerHTML = '';\n",
              "          dataTable['output_type'] = 'display_data';\n",
              "          await google.colab.output.renderOutput(dataTable, element);\n",
              "          const docLink = document.createElement('div');\n",
              "          docLink.innerHTML = docLinkHtml;\n",
              "          element.appendChild(docLink);\n",
              "        }\n",
              "      </script>\n",
              "    </div>\n",
              "  </div>\n",
              "  "
            ]
          },
          "metadata": {},
          "execution_count": 51
        }
      ]
    },
    {
      "cell_type": "markdown",
      "source": [
        "> Информация о наборе данных:"
      ],
      "metadata": {
        "id": "ozJRtcPOKnwX"
      }
    },
    {
      "cell_type": "code",
      "source": [
        "print(data.info())"
      ],
      "metadata": {
        "colab": {
          "base_uri": "https://localhost:8080/"
        },
        "id": "s0619vBDIs82",
        "outputId": "f0c646d1-bccd-4052-9b59-4d8b0caf6d95"
      },
      "execution_count": null,
      "outputs": [
        {
          "output_type": "stream",
          "name": "stdout",
          "text": [
            "<class 'pandas.core.frame.DataFrame'>\n",
            "RangeIndex: 615 entries, 0 to 614\n",
            "Data columns (total 20 columns):\n",
            " #   Column                   Non-Null Count  Dtype  \n",
            "---  ------                   --------------  -----  \n",
            " 0   Model                    615 non-null    object \n",
            " 1   Company                  615 non-null    object \n",
            " 2   Engine Type              615 non-null    object \n",
            " 3   HP or lbs thr ea engine  615 non-null    object \n",
            " 4   Max speed Knots          615 non-null    object \n",
            " 5   Rcmnd cruise Knots       615 non-null    float64\n",
            " 6   Stall Knots dirty        615 non-null    float64\n",
            " 7   All eng rate of climb    615 non-null    object \n",
            " 8   Gross weight lbs         615 non-null    object \n",
            " 9   Empty weight lbs         615 non-null    float64\n",
            " 10  Length ft/in             615 non-null    object \n",
            " 11  Height ft/in             615 non-null    object \n",
            " 12  Wing span ft/in          615 non-null    object \n",
            " 13  Range N.M.               615 non-null    float64\n",
            " 14  Fuel gal/lbs             615 non-null    float64\n",
            " 15  All eng service ceiling  615 non-null    float64\n",
            " 16  Takeoff over 50ft        615 non-null    float64\n",
            " 17  Takeoff ground run       615 non-null    float64\n",
            " 18  Landing over 50ft        615 non-null    float64\n",
            " 19  Landing ground roll      615 non-null    float64\n",
            "dtypes: float64(10), object(10)\n",
            "memory usage: 96.2+ KB\n",
            "None\n"
          ]
        }
      ]
    },
    {
      "cell_type": "markdown",
      "source": [
        "> Функция вывода графиков, описывающих данные в определенной колонке:"
      ],
      "metadata": {
        "id": "AdPgv-ViKqz_"
      }
    },
    {
      "cell_type": "code",
      "source": [
        "def diagnostic_plots(df, variable, title):\n",
        "    fig, ax = plt.subplots(figsize=(15,10))\n",
        "    # гистограмма\n",
        "    plt.subplot(2, 2, 1)\n",
        "    df[variable].hist(bins=30)\n",
        "    ## Q-Q plot\n",
        "    plt.subplot(2, 2, 2)\n",
        "    stats.probplot(df[variable], dist=\"norm\", plot=plt)\n",
        "    # ящик с усами\n",
        "    plt.subplot(2, 2, 3)\n",
        "    sns.violinplot(x=df[variable])    \n",
        "    # ящик с усами\n",
        "    plt.subplot(2, 2, 4)\n",
        "    sns.boxplot(x=df[variable])  \n",
        "    fig.suptitle(title)\n",
        "    plt.show()"
      ],
      "metadata": {
        "id": "eRV-vvbRBfo5"
      },
      "execution_count": null,
      "outputs": []
    },
    {
      "cell_type": "markdown",
      "source": [
        "> Графики, описывающие колонку `Empty weight lbs`:\n",
        "\n",
        "Наблюдается большое количество выбросов на большом диапазоне до `40000`"
      ],
      "metadata": {
        "id": "FNkycIKAKwX4"
      }
    },
    {
      "cell_type": "code",
      "source": [
        "diagnostic_plots(data, 'Empty weight lbs', 'Empty weight lbs - original')"
      ],
      "metadata": {
        "colab": {
          "base_uri": "https://localhost:8080/",
          "height": 683
        },
        "id": "PNOOvQKzBfmT",
        "outputId": "8fc3ac23-8536-4405-c1c8-4de0265ea5d6"
      },
      "execution_count": null,
      "outputs": [
        {
          "output_type": "display_data",
          "data": {
            "text/plain": [
              "<Figure size 1080x720 with 4 Axes>"
            ],
            "image/png": "[encoded data removed]"
          },
          "metadata": {
            "needs_background": "light"
          }
        }
      ]
    },
    {
      "cell_type": "markdown",
      "source": [
        "> Удаление выбросов на основе 5% и 95% квантилей в колонке `Empty weight lbs`:\n",
        "\n",
        "В результате число выбросов уменьшилось, максимальный выброс в районе `10000` вместо `40000`"
      ],
      "metadata": {
        "id": "owbMhJfTLBDO"
      }
    },
    {
      "cell_type": "code",
      "source": [
        "# Вычисление верхней и нижней границы\n",
        "lower_boundary = data['Empty weight lbs'].quantile(0.05)\n",
        "upper_boundary = data['Empty weight lbs'].quantile(0.95)\n",
        "# Флаги для удаления выбросов\n",
        "outliers_temp = np.where(data['Empty weight lbs'] > upper_boundary, True, \n",
        "                          np.where(data['Empty weight lbs'] < lower_boundary, True, False))\n",
        "# Удаление данных на основе флага\n",
        "data_trimmed = data.loc[~(outliers_temp), ]  \n",
        "title = '\\nПоле - {}, метод - {}, строк - {}'.format('Empty weight lbs', 'Quantile', data_trimmed.shape[0])\n",
        "diagnostic_plots(data_trimmed, 'Empty weight lbs', title)"
      ],
      "metadata": {
        "colab": {
          "base_uri": "https://localhost:8080/",
          "height": 683
        },
        "id": "FKTRqZ9gBfkE",
        "outputId": "a622f0ce-2de5-4e1c-a5b9-b0ea32450505"
      },
      "execution_count": null,
      "outputs": [
        {
          "output_type": "display_data",
          "data": {
            "text/plain": [
              "<Figure size 1080x720 with 4 Axes>"
            ],
            "image/png": "[encoded data removed]"
          },
          "metadata": {
            "needs_background": "light"
          }
        }
      ]
    },
    {
      "cell_type": "markdown",
      "source": [
        "# Дополнительное задание\n",
        "Для произвольной колонки данных построить график \"Ящик с усами (boxplot)\"."
      ],
      "metadata": {
        "id": "FNspYQxLBxN_"
      }
    },
    {
      "cell_type": "code",
      "source": [
        "plt.figure(figsize = (15, 7))\n",
        "plt.grid()\n",
        "plt.title('\\nЯщик с усами для колонки Range N.M.', {'fontsize' : 20})\n",
        "sns.boxplot(x = data['Range N.M.']) "
      ],
      "metadata": {
        "colab": {
          "base_uri": "https://localhost:8080/",
          "height": 508
        },
        "id": "am15IfCnBxEg",
        "outputId": "1daca36d-324c-473e-cc72-1626693c31d3"
      },
      "execution_count": null,
      "outputs": [
        {
          "output_type": "execute_result",
          "data": {
            "text/plain": [
              "<matplotlib.axes._subplots.AxesSubplot at 0x7f8fbd398710>"
            ]
          },
          "metadata": {},
          "execution_count": 61
        },
        {
          "output_type": "display_data",
          "data": {
            "text/plain": [
              "<Figure size 1080x504 with 1 Axes>"
            ],
            "image/png": "[encoded data removed]"
          },
          "metadata": {
            "needs_background": "light"
          }
        }
      ]
    }
  ]
}