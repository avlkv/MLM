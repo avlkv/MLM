{
  "nbformat": 4,
  "nbformat_minor": 0,
  "metadata": {
    "colab": {
      "name": "LAB5_MMO_TEXT_PRE_CLAS_VOLKOV_IU5-23M",
      "provenance": [],
      "collapsed_sections": []
    },
    "kernelspec": {
      "name": "python3",
      "display_name": "Python 3"
    },
    "language_info": {
      "name": "python"
    }
  },
  "cells": [
    {
      "cell_type": "code",
      "execution_count": null,
      "metadata": {
        "colab": {
          "base_uri": "https://localhost:8080/"
        },
        "id": "x95nMn_6A11t",
        "outputId": "562e1196-b29f-4d33-ef94-9fed082bdf33"
      },
      "outputs": [
        {
          "output_type": "stream",
          "name": "stdout",
          "text": [
            "Looking in indexes: https://pypi.org/simple, https://us-python.pkg.dev/colab-wheels/public/simple/\n",
            "Collecting natasha\n",
            "  Downloading natasha-1.4.0-py3-none-any.whl (34.4 MB)\n",
            "\u001b[K     |████████████████████████████████| 34.4 MB 180 kB/s \n",
            "\u001b[?25hCollecting slovnet>=0.3.0\n",
            "  Downloading slovnet-0.5.0-py3-none-any.whl (49 kB)\n",
            "\u001b[K     |████████████████████████████████| 49 kB 4.5 MB/s \n",
            "\u001b[?25hCollecting yargy>=0.14.0\n",
            "  Downloading yargy-0.15.0-py3-none-any.whl (41 kB)\n",
            "\u001b[K     |████████████████████████████████| 41 kB 119 kB/s \n",
            "\u001b[?25hCollecting razdel>=0.5.0\n",
            "  Downloading razdel-0.5.0-py3-none-any.whl (21 kB)\n",
            "Collecting ipymarkup>=0.8.0\n",
            "  Downloading ipymarkup-0.9.0-py3-none-any.whl (14 kB)\n",
            "Collecting pymorphy2\n",
            "  Downloading pymorphy2-0.9.1-py3-none-any.whl (55 kB)\n",
            "\u001b[K     |████████████████████████████████| 55 kB 3.8 MB/s \n",
            "\u001b[?25hCollecting navec>=0.9.0\n",
            "  Downloading navec-0.10.0-py3-none-any.whl (23 kB)\n",
            "Collecting intervaltree>=3\n",
            "  Downloading intervaltree-3.1.0.tar.gz (32 kB)\n",
            "Requirement already satisfied: sortedcontainers<3.0,>=2.0 in /usr/local/lib/python3.7/dist-packages (from intervaltree>=3->ipymarkup>=0.8.0->natasha) (2.4.0)\n",
            "Requirement already satisfied: numpy in /usr/local/lib/python3.7/dist-packages (from navec>=0.9.0->natasha) (1.21.6)\n",
            "Collecting pymorphy2-dicts-ru<3.0,>=2.4\n",
            "  Downloading pymorphy2_dicts_ru-2.4.417127.4579844-py2.py3-none-any.whl (8.2 MB)\n",
            "\u001b[K     |████████████████████████████████| 8.2 MB 8.6 MB/s \n",
            "\u001b[?25hRequirement already satisfied: docopt>=0.6 in /usr/local/lib/python3.7/dist-packages (from pymorphy2->natasha) (0.6.2)\n",
            "Collecting dawg-python>=0.7.1\n",
            "  Downloading DAWG_Python-0.7.2-py2.py3-none-any.whl (11 kB)\n",
            "Building wheels for collected packages: intervaltree\n",
            "  Building wheel for intervaltree (setup.py) ... \u001b[?25l\u001b[?25hdone\n",
            "  Created wheel for intervaltree: filename=intervaltree-3.1.0-py2.py3-none-any.whl size=26119 sha256=27e3c82a86456bad07e44b19c814f9a0626b0e45f56f472244d4686974520ac2\n",
            "  Stored in directory: /root/.cache/pip/wheels/16/85/bd/1001cbb46dcfb71c2001cd7401c6fb250392f22a81ce3722f7\n",
            "Successfully built intervaltree\n",
            "Installing collected packages: pymorphy2-dicts-ru, dawg-python, razdel, pymorphy2, navec, intervaltree, yargy, slovnet, ipymarkup, natasha\n",
            "  Attempting uninstall: intervaltree\n",
            "    Found existing installation: intervaltree 2.1.0\n",
            "    Uninstalling intervaltree-2.1.0:\n",
            "      Successfully uninstalled intervaltree-2.1.0\n",
            "Successfully installed dawg-python-0.7.2 intervaltree-3.1.0 ipymarkup-0.9.0 natasha-1.4.0 navec-0.10.0 pymorphy2-0.9.1 pymorphy2-dicts-ru-2.4.417127.4579844 razdel-0.5.0 slovnet-0.5.0 yargy-0.15.0\n"
          ]
        }
      ],
      "source": [
        "!pip install natasha"
      ]
    },
    {
      "cell_type": "markdown",
      "source": [
        "1. Для произвольного предложения или текста решите следующие задачи:\n",
        "- Токенизация.\n",
        "- Частеречная разметка.\n",
        "- Лемматизация.\n",
        "- Выделение (распознавание) именованных сущностей.\n",
        "- Разбор предложения.\n",
        "2. Для произвольного набора данных, предназначенного для классификации текстов, решите задачу классификации текста двумя способами:\n",
        "- Способ 1. На основе CountVectorizer или TfidfVectorizer.\n",
        "- Способ 2. На основе моделей word2vec или Glove или fastText.\n",
        "- Сравните качество полученных моделей."
      ],
      "metadata": {
        "id": "LYC-VZZ5C5eG"
      }
    },
    {
      "cell_type": "code",
      "source": [
        "text = \"Книга начинается с того, что дом главного героя Артура Дента пытаются снести для постройки новой автодороги. Чтобы остановить снос, Артур ложится перед бульдозером, после чего прибывает его друг Форд Префект. Форд рассказывает Артуру, что является пришельцем из окрестностей Бетельгейзе и что планету Земля планируют уничтожить для постройки гиперпространственной магистрали. Пытаясь спастись, друзья перемещаются на корабль инопланетной расы вогонов за считанные мгновения до того, как те уничтожают Землю. За незаконное проникновение их пытают поэзией вогонов (считающейся одной из худших во Вселенной), а затем выбрасывают в космос, где их подбирает корабль «Heart of Gold», украденный Зафодом Библброксом. Вместе с Триллиан и роботом Марвином Зафод разыскивает легендарную планету Магратея.\""
      ],
      "metadata": {
        "id": "D3pWcZ82CRkb"
      },
      "execution_count": null,
      "outputs": []
    },
    {
      "cell_type": "markdown",
      "source": [
        "# Обработка текста"
      ],
      "metadata": {
        "id": "P99wNp9mD90u"
      }
    },
    {
      "cell_type": "markdown",
      "source": [
        "## Токенизация"
      ],
      "metadata": {
        "id": "L2XdKr28EDLO"
      }
    },
    {
      "cell_type": "code",
      "source": [
        "from razdel import tokenize, sentenize"
      ],
      "metadata": {
        "id": "mxfTz_YeCVZ2"
      },
      "execution_count": null,
      "outputs": []
    },
    {
      "cell_type": "code",
      "source": [
        "n_tok_text = list(tokenize(text))\n",
        "n_tok_text"
      ],
      "metadata": {
        "colab": {
          "base_uri": "https://localhost:8080/"
        },
        "id": "pBGxfMUIC0PJ",
        "outputId": "7523f1be-e24f-4457-ff7f-813143eba3e4"
      },
      "execution_count": null,
      "outputs": [
        {
          "output_type": "execute_result",
          "data": {
            "text/plain": [
              "[Substring(0, 5, 'Книга'),\n",
              " Substring(6, 16, 'начинается'),\n",
              " Substring(17, 18, 'с'),\n",
              " Substring(19, 23, 'того'),\n",
              " Substring(23, 24, ','),\n",
              " Substring(25, 28, 'что'),\n",
              " Substring(29, 32, 'дом'),\n",
              " Substring(33, 41, 'главного'),\n",
              " Substring(42, 47, 'героя'),\n",
              " Substring(48, 54, 'Артура'),\n",
              " Substring(55, 60, 'Дента'),\n",
              " Substring(61, 69, 'пытаются'),\n",
              " Substring(70, 76, 'снести'),\n",
              " Substring(77, 80, 'для'),\n",
              " Substring(81, 90, 'постройки'),\n",
              " Substring(91, 96, 'новой'),\n",
              " Substring(97, 107, 'автодороги'),\n",
              " Substring(107, 108, '.'),\n",
              " Substring(109, 114, 'Чтобы'),\n",
              " Substring(115, 125, 'остановить'),\n",
              " Substring(126, 130, 'снос'),\n",
              " Substring(130, 131, ','),\n",
              " Substring(132, 137, 'Артур'),\n",
              " Substring(138, 145, 'ложится'),\n",
              " Substring(146, 151, 'перед'),\n",
              " Substring(152, 163, 'бульдозером'),\n",
              " Substring(163, 164, ','),\n",
              " Substring(165, 170, 'после'),\n",
              " Substring(171, 175, 'чего'),\n",
              " Substring(176, 185, 'прибывает'),\n",
              " Substring(186, 189, 'его'),\n",
              " Substring(190, 194, 'друг'),\n",
              " Substring(195, 199, 'Форд'),\n",
              " Substring(200, 207, 'Префект'),\n",
              " Substring(207, 208, '.'),\n",
              " Substring(209, 213, 'Форд'),\n",
              " Substring(214, 226, 'рассказывает'),\n",
              " Substring(227, 233, 'Артуру'),\n",
              " Substring(233, 234, ','),\n",
              " Substring(235, 238, 'что'),\n",
              " Substring(239, 247, 'является'),\n",
              " Substring(248, 258, 'пришельцем'),\n",
              " Substring(259, 261, 'из'),\n",
              " Substring(262, 274, 'окрестностей'),\n",
              " Substring(275, 286, 'Бетельгейзе'),\n",
              " Substring(287, 288, 'и'),\n",
              " Substring(289, 292, 'что'),\n",
              " Substring(293, 300, 'планету'),\n",
              " Substring(301, 306, 'Земля'),\n",
              " Substring(307, 316, 'планируют'),\n",
              " Substring(317, 327, 'уничтожить'),\n",
              " Substring(328, 331, 'для'),\n",
              " Substring(332, 341, 'постройки'),\n",
              " Substring(342, 363, 'гиперпространственной'),\n",
              " Substring(364, 374, 'магистрали'),\n",
              " Substring(374, 375, '.'),\n",
              " Substring(376, 383, 'Пытаясь'),\n",
              " Substring(384, 392, 'спастись'),\n",
              " Substring(392, 393, ','),\n",
              " Substring(394, 400, 'друзья'),\n",
              " Substring(401, 413, 'перемещаются'),\n",
              " Substring(414, 416, 'на'),\n",
              " Substring(417, 424, 'корабль'),\n",
              " Substring(425, 437, 'инопланетной'),\n",
              " Substring(438, 442, 'расы'),\n",
              " Substring(443, 450, 'вогонов'),\n",
              " Substring(451, 453, 'за'),\n",
              " Substring(454, 463, 'считанные'),\n",
              " Substring(464, 473, 'мгновения'),\n",
              " Substring(474, 476, 'до'),\n",
              " Substring(477, 481, 'того'),\n",
              " Substring(481, 482, ','),\n",
              " Substring(483, 486, 'как'),\n",
              " Substring(487, 489, 'те'),\n",
              " Substring(490, 500, 'уничтожают'),\n",
              " Substring(501, 506, 'Землю'),\n",
              " Substring(506, 507, '.'),\n",
              " Substring(508, 510, 'За'),\n",
              " Substring(511, 521, 'незаконное'),\n",
              " Substring(522, 535, 'проникновение'),\n",
              " Substring(536, 538, 'их'),\n",
              " Substring(539, 545, 'пытают'),\n",
              " Substring(546, 553, 'поэзией'),\n",
              " Substring(554, 561, 'вогонов'),\n",
              " Substring(562, 563, '('),\n",
              " Substring(563, 574, 'считающейся'),\n",
              " Substring(575, 580, 'одной'),\n",
              " Substring(581, 583, 'из'),\n",
              " Substring(584, 590, 'худших'),\n",
              " Substring(591, 593, 'во'),\n",
              " Substring(594, 603, 'Вселенной'),\n",
              " Substring(603, 604, ')'),\n",
              " Substring(604, 605, ','),\n",
              " Substring(606, 607, 'а'),\n",
              " Substring(608, 613, 'затем'),\n",
              " Substring(614, 625, 'выбрасывают'),\n",
              " Substring(626, 627, 'в'),\n",
              " Substring(628, 634, 'космос'),\n",
              " Substring(634, 635, ','),\n",
              " Substring(636, 639, 'где'),\n",
              " Substring(640, 642, 'их'),\n",
              " Substring(643, 652, 'подбирает'),\n",
              " Substring(653, 660, 'корабль'),\n",
              " Substring(661, 662, '«'),\n",
              " Substring(662, 667, 'Heart'),\n",
              " Substring(668, 670, 'of'),\n",
              " Substring(671, 675, 'Gold'),\n",
              " Substring(675, 676, '»'),\n",
              " Substring(676, 677, ','),\n",
              " Substring(678, 688, 'украденный'),\n",
              " Substring(689, 696, 'Зафодом'),\n",
              " Substring(697, 708, 'Библброксом'),\n",
              " Substring(708, 709, '.'),\n",
              " Substring(710, 716, 'Вместе'),\n",
              " Substring(717, 718, 'с'),\n",
              " Substring(719, 727, 'Триллиан'),\n",
              " Substring(728, 729, 'и'),\n",
              " Substring(730, 737, 'роботом'),\n",
              " Substring(738, 746, 'Марвином'),\n",
              " Substring(747, 752, 'Зафод'),\n",
              " Substring(753, 764, 'разыскивает'),\n",
              " Substring(765, 776, 'легендарную'),\n",
              " Substring(777, 784, 'планету'),\n",
              " Substring(785, 793, 'Магратея'),\n",
              " Substring(793, 794, '.')]"
            ]
          },
          "metadata": {},
          "execution_count": 4
        }
      ]
    },
    {
      "cell_type": "code",
      "source": [
        "[_.text for _ in n_tok_text]"
      ],
      "metadata": {
        "colab": {
          "base_uri": "https://localhost:8080/"
        },
        "id": "jac5nbCmC0Mi",
        "outputId": "2131a928-11bd-4cdc-d2f6-4e7e23ad91d4"
      },
      "execution_count": null,
      "outputs": [
        {
          "output_type": "execute_result",
          "data": {
            "text/plain": [
              "['Книга',\n",
              " 'начинается',\n",
              " 'с',\n",
              " 'того',\n",
              " ',',\n",
              " 'что',\n",
              " 'дом',\n",
              " 'главного',\n",
              " 'героя',\n",
              " 'Артура',\n",
              " 'Дента',\n",
              " 'пытаются',\n",
              " 'снести',\n",
              " 'для',\n",
              " 'постройки',\n",
              " 'новой',\n",
              " 'автодороги',\n",
              " '.',\n",
              " 'Чтобы',\n",
              " 'остановить',\n",
              " 'снос',\n",
              " ',',\n",
              " 'Артур',\n",
              " 'ложится',\n",
              " 'перед',\n",
              " 'бульдозером',\n",
              " ',',\n",
              " 'после',\n",
              " 'чего',\n",
              " 'прибывает',\n",
              " 'его',\n",
              " 'друг',\n",
              " 'Форд',\n",
              " 'Префект',\n",
              " '.',\n",
              " 'Форд',\n",
              " 'рассказывает',\n",
              " 'Артуру',\n",
              " ',',\n",
              " 'что',\n",
              " 'является',\n",
              " 'пришельцем',\n",
              " 'из',\n",
              " 'окрестностей',\n",
              " 'Бетельгейзе',\n",
              " 'и',\n",
              " 'что',\n",
              " 'планету',\n",
              " 'Земля',\n",
              " 'планируют',\n",
              " 'уничтожить',\n",
              " 'для',\n",
              " 'постройки',\n",
              " 'гиперпространственной',\n",
              " 'магистрали',\n",
              " '.',\n",
              " 'Пытаясь',\n",
              " 'спастись',\n",
              " ',',\n",
              " 'друзья',\n",
              " 'перемещаются',\n",
              " 'на',\n",
              " 'корабль',\n",
              " 'инопланетной',\n",
              " 'расы',\n",
              " 'вогонов',\n",
              " 'за',\n",
              " 'считанные',\n",
              " 'мгновения',\n",
              " 'до',\n",
              " 'того',\n",
              " ',',\n",
              " 'как',\n",
              " 'те',\n",
              " 'уничтожают',\n",
              " 'Землю',\n",
              " '.',\n",
              " 'За',\n",
              " 'незаконное',\n",
              " 'проникновение',\n",
              " 'их',\n",
              " 'пытают',\n",
              " 'поэзией',\n",
              " 'вогонов',\n",
              " '(',\n",
              " 'считающейся',\n",
              " 'одной',\n",
              " 'из',\n",
              " 'худших',\n",
              " 'во',\n",
              " 'Вселенной',\n",
              " ')',\n",
              " ',',\n",
              " 'а',\n",
              " 'затем',\n",
              " 'выбрасывают',\n",
              " 'в',\n",
              " 'космос',\n",
              " ',',\n",
              " 'где',\n",
              " 'их',\n",
              " 'подбирает',\n",
              " 'корабль',\n",
              " '«',\n",
              " 'Heart',\n",
              " 'of',\n",
              " 'Gold',\n",
              " '»',\n",
              " ',',\n",
              " 'украденный',\n",
              " 'Зафодом',\n",
              " 'Библброксом',\n",
              " '.',\n",
              " 'Вместе',\n",
              " 'с',\n",
              " 'Триллиан',\n",
              " 'и',\n",
              " 'роботом',\n",
              " 'Марвином',\n",
              " 'Зафод',\n",
              " 'разыскивает',\n",
              " 'легендарную',\n",
              " 'планету',\n",
              " 'Магратея',\n",
              " '.']"
            ]
          },
          "metadata": {},
          "execution_count": 5
        }
      ]
    },
    {
      "cell_type": "code",
      "source": [
        "n_sen_text = list(sentenize(text))\n",
        "n_sen_text"
      ],
      "metadata": {
        "colab": {
          "base_uri": "https://localhost:8080/"
        },
        "id": "k01IZCGqC0KB",
        "outputId": "ebbcdb4f-8352-4b14-d1b5-600c9dba497d"
      },
      "execution_count": null,
      "outputs": [
        {
          "output_type": "execute_result",
          "data": {
            "text/plain": [
              "[Substring(0,\n",
              "           108,\n",
              "           'Книга начинается с того, что дом главного героя Артура Дента пытаются снести для постройки новой автодороги.'),\n",
              " Substring(109,\n",
              "           208,\n",
              "           'Чтобы остановить снос, Артур ложится перед бульдозером, после чего прибывает его друг Форд Префект.'),\n",
              " Substring(209,\n",
              "           375,\n",
              "           'Форд рассказывает Артуру, что является пришельцем из окрестностей Бетельгейзе и что планету Земля планируют уничтожить для постройки гиперпространственной магистрали.'),\n",
              " Substring(376,\n",
              "           507,\n",
              "           'Пытаясь спастись, друзья перемещаются на корабль инопланетной расы вогонов за считанные мгновения до того, как те уничтожают Землю.'),\n",
              " Substring(508,\n",
              "           709,\n",
              "           'За незаконное проникновение их пытают поэзией вогонов (считающейся одной из худших во Вселенной), а затем выбрасывают в космос, где их подбирает корабль «Heart of Gold», украденный Зафодом Библброксом.'),\n",
              " Substring(710,\n",
              "           794,\n",
              "           'Вместе с Триллиан и роботом Марвином Зафод разыскивает легендарную планету Магратея.')]"
            ]
          },
          "metadata": {},
          "execution_count": 6
        }
      ]
    },
    {
      "cell_type": "code",
      "source": [
        "[_.text for _ in n_sen_text], len([_.text for _ in n_sen_text])"
      ],
      "metadata": {
        "colab": {
          "base_uri": "https://localhost:8080/"
        },
        "id": "Ke-iszETC0HZ",
        "outputId": "ba8028a4-11d7-410d-d771-ceffda05bcd7"
      },
      "execution_count": null,
      "outputs": [
        {
          "output_type": "execute_result",
          "data": {
            "text/plain": [
              "(['Книга начинается с того, что дом главного героя Артура Дента пытаются снести для постройки новой автодороги.',\n",
              "  'Чтобы остановить снос, Артур ложится перед бульдозером, после чего прибывает его друг Форд Префект.',\n",
              "  'Форд рассказывает Артуру, что является пришельцем из окрестностей Бетельгейзе и что планету Земля планируют уничтожить для постройки гиперпространственной магистрали.',\n",
              "  'Пытаясь спастись, друзья перемещаются на корабль инопланетной расы вогонов за считанные мгновения до того, как те уничтожают Землю.',\n",
              "  'За незаконное проникновение их пытают поэзией вогонов (считающейся одной из худших во Вселенной), а затем выбрасывают в космос, где их подбирает корабль «Heart of Gold», украденный Зафодом Библброксом.',\n",
              "  'Вместе с Триллиан и роботом Марвином Зафод разыскивает легендарную планету Магратея.'],\n",
              " 6)"
            ]
          },
          "metadata": {},
          "execution_count": 7
        }
      ]
    },
    {
      "cell_type": "code",
      "source": [
        "# Этот вариант токенизации нужен для последующей обработки\n",
        "def n_sentenize(text):\n",
        "    n_sen_chunk = []\n",
        "    for sent in sentenize(text):\n",
        "        tokens = [_.text for _ in tokenize(sent.text)]\n",
        "        n_sen_chunk.append(tokens)\n",
        "    return n_sen_chunk"
      ],
      "metadata": {
        "id": "A5p0K4T9C0EZ"
      },
      "execution_count": null,
      "outputs": []
    },
    {
      "cell_type": "code",
      "source": [
        "n_sen_chunk = n_sentenize(text)\n",
        "n_sen_chunk"
      ],
      "metadata": {
        "colab": {
          "base_uri": "https://localhost:8080/"
        },
        "id": "USXZd0iFDw0M",
        "outputId": "006b10c4-e9a8-4538-f2d8-fb5667fc8ca4"
      },
      "execution_count": null,
      "outputs": [
        {
          "output_type": "execute_result",
          "data": {
            "text/plain": [
              "[['Книга',\n",
              "  'начинается',\n",
              "  'с',\n",
              "  'того',\n",
              "  ',',\n",
              "  'что',\n",
              "  'дом',\n",
              "  'главного',\n",
              "  'героя',\n",
              "  'Артура',\n",
              "  'Дента',\n",
              "  'пытаются',\n",
              "  'снести',\n",
              "  'для',\n",
              "  'постройки',\n",
              "  'новой',\n",
              "  'автодороги',\n",
              "  '.'],\n",
              " ['Чтобы',\n",
              "  'остановить',\n",
              "  'снос',\n",
              "  ',',\n",
              "  'Артур',\n",
              "  'ложится',\n",
              "  'перед',\n",
              "  'бульдозером',\n",
              "  ',',\n",
              "  'после',\n",
              "  'чего',\n",
              "  'прибывает',\n",
              "  'его',\n",
              "  'друг',\n",
              "  'Форд',\n",
              "  'Префект',\n",
              "  '.'],\n",
              " ['Форд',\n",
              "  'рассказывает',\n",
              "  'Артуру',\n",
              "  ',',\n",
              "  'что',\n",
              "  'является',\n",
              "  'пришельцем',\n",
              "  'из',\n",
              "  'окрестностей',\n",
              "  'Бетельгейзе',\n",
              "  'и',\n",
              "  'что',\n",
              "  'планету',\n",
              "  'Земля',\n",
              "  'планируют',\n",
              "  'уничтожить',\n",
              "  'для',\n",
              "  'постройки',\n",
              "  'гиперпространственной',\n",
              "  'магистрали',\n",
              "  '.'],\n",
              " ['Пытаясь',\n",
              "  'спастись',\n",
              "  ',',\n",
              "  'друзья',\n",
              "  'перемещаются',\n",
              "  'на',\n",
              "  'корабль',\n",
              "  'инопланетной',\n",
              "  'расы',\n",
              "  'вогонов',\n",
              "  'за',\n",
              "  'считанные',\n",
              "  'мгновения',\n",
              "  'до',\n",
              "  'того',\n",
              "  ',',\n",
              "  'как',\n",
              "  'те',\n",
              "  'уничтожают',\n",
              "  'Землю',\n",
              "  '.'],\n",
              " ['За',\n",
              "  'незаконное',\n",
              "  'проникновение',\n",
              "  'их',\n",
              "  'пытают',\n",
              "  'поэзией',\n",
              "  'вогонов',\n",
              "  '(',\n",
              "  'считающейся',\n",
              "  'одной',\n",
              "  'из',\n",
              "  'худших',\n",
              "  'во',\n",
              "  'Вселенной',\n",
              "  ')',\n",
              "  ',',\n",
              "  'а',\n",
              "  'затем',\n",
              "  'выбрасывают',\n",
              "  'в',\n",
              "  'космос',\n",
              "  ',',\n",
              "  'где',\n",
              "  'их',\n",
              "  'подбирает',\n",
              "  'корабль',\n",
              "  '«',\n",
              "  'Heart',\n",
              "  'of',\n",
              "  'Gold',\n",
              "  '»',\n",
              "  ',',\n",
              "  'украденный',\n",
              "  'Зафодом',\n",
              "  'Библброксом',\n",
              "  '.'],\n",
              " ['Вместе',\n",
              "  'с',\n",
              "  'Триллиан',\n",
              "  'и',\n",
              "  'роботом',\n",
              "  'Марвином',\n",
              "  'Зафод',\n",
              "  'разыскивает',\n",
              "  'легендарную',\n",
              "  'планету',\n",
              "  'Магратея',\n",
              "  '.']]"
            ]
          },
          "metadata": {},
          "execution_count": 9
        }
      ]
    },
    {
      "cell_type": "markdown",
      "source": [
        "## Частеречная разметка"
      ],
      "metadata": {
        "id": "FKq7gVEcEQ89"
      }
    },
    {
      "cell_type": "code",
      "source": [
        "from navec import Navec\n",
        "from slovnet import Morph"
      ],
      "metadata": {
        "id": "zo_FB108DwwD"
      },
      "execution_count": null,
      "outputs": []
    },
    {
      "cell_type": "code",
      "source": [
        "# Файл необходимо скачать по ссылке https://github.com/natasha/navec#downloads\n",
        "navec = Navec.load('/content/drive/MyDrive/datasets/navec_news_v1_1B_250K_300d_100q.tar')"
      ],
      "metadata": {
        "id": "QQHO2k2zDwtr"
      },
      "execution_count": null,
      "outputs": []
    },
    {
      "cell_type": "code",
      "source": [
        "# Файл необходимо скачать по ссылке https://github.com/natasha/slovnet#downloads\n",
        "n_morph = Morph.load('/content/drive/MyDrive/datasets/slovnet_morph_news_v1.tar', batch_size=4)"
      ],
      "metadata": {
        "id": "3WjQxWsGDwq9"
      },
      "execution_count": null,
      "outputs": []
    },
    {
      "cell_type": "code",
      "source": [
        "morph_res = n_morph.navec(navec)"
      ],
      "metadata": {
        "id": "F75i6yFpDwn0"
      },
      "execution_count": null,
      "outputs": []
    },
    {
      "cell_type": "code",
      "source": [
        "def print_pos(markup):\n",
        "    for token in markup.tokens:\n",
        "        print('{} - {}'.format(token.text, token.tag))"
      ],
      "metadata": {
        "id": "WBl5N05SDwlE"
      },
      "execution_count": null,
      "outputs": []
    },
    {
      "cell_type": "code",
      "source": [
        "n_text_markup = list(_ for _ in n_morph.map(n_sen_chunk))\n",
        "[print_pos(x) for x in n_text_markup]"
      ],
      "metadata": {
        "colab": {
          "base_uri": "https://localhost:8080/"
        },
        "id": "BVnRmFiUC0Bh",
        "outputId": "87d48550-78b9-4b33-f082-33223240fb1b"
      },
      "execution_count": null,
      "outputs": [
        {
          "output_type": "stream",
          "name": "stdout",
          "text": [
            "Книга - NOUN|Animacy=Inan|Case=Nom|Gender=Fem|Number=Sing\n",
            "начинается - VERB|Aspect=Imp|Mood=Ind|Number=Sing|Person=3|Tense=Pres|VerbForm=Fin|Voice=Mid\n",
            "с - ADP\n",
            "того - PRON|Animacy=Inan|Case=Gen|Gender=Neut|Number=Sing\n",
            ", - PUNCT\n",
            "что - SCONJ\n",
            "дом - NOUN|Animacy=Inan|Case=Nom|Gender=Masc|Number=Sing\n",
            "главного - ADJ|Case=Gen|Degree=Pos|Gender=Masc|Number=Sing\n",
            "героя - NOUN|Animacy=Anim|Case=Gen|Gender=Masc|Number=Sing\n",
            "Артура - PROPN|Animacy=Anim|Case=Gen|Gender=Masc|Number=Sing\n",
            "Дента - PROPN|Animacy=Anim|Case=Gen|Gender=Masc|Number=Sing\n",
            "пытаются - VERB|Aspect=Imp|Mood=Ind|Number=Plur|Person=3|Tense=Pres|VerbForm=Fin|Voice=Mid\n",
            "снести - VERB|Aspect=Perf|VerbForm=Inf|Voice=Act\n",
            "для - ADP\n",
            "постройки - NOUN|Animacy=Inan|Case=Gen|Gender=Fem|Number=Sing\n",
            "новой - ADJ|Case=Gen|Degree=Pos|Gender=Fem|Number=Sing\n",
            "автодороги - NOUN|Animacy=Inan|Case=Gen|Gender=Fem|Number=Sing\n",
            ". - PUNCT\n",
            "Чтобы - SCONJ\n",
            "остановить - VERB|Aspect=Perf|VerbForm=Inf|Voice=Act\n",
            "снос - NOUN|Animacy=Inan|Case=Acc|Gender=Masc|Number=Sing\n",
            ", - PUNCT\n",
            "Артур - PROPN|Animacy=Anim|Case=Nom|Gender=Masc|Number=Sing\n",
            "ложится - VERB|Aspect=Imp|Mood=Ind|Number=Sing|Person=3|Tense=Pres|VerbForm=Fin|Voice=Mid\n",
            "перед - ADP\n",
            "бульдозером - NOUN|Animacy=Inan|Case=Ins|Gender=Masc|Number=Sing\n",
            ", - PUNCT\n",
            "после - ADP\n",
            "чего - PRON|Animacy=Inan|Case=Gen|Gender=Neut|Number=Sing\n",
            "прибывает - VERB|Aspect=Imp|Mood=Ind|Number=Sing|Person=3|Tense=Pres|VerbForm=Fin|Voice=Act\n",
            "его - PRON|Case=Gen|Gender=Masc|Number=Sing|Person=3\n",
            "друг - NOUN|Animacy=Anim|Case=Nom|Gender=Masc|Number=Sing\n",
            "Форд - PROPN|Animacy=Anim|Case=Nom|Gender=Masc|Number=Sing\n",
            "Префект - PROPN|Animacy=Anim|Case=Nom|Gender=Masc|Number=Sing\n",
            ". - PUNCT\n",
            "Форд - PROPN|Animacy=Anim|Case=Nom|Gender=Masc|Number=Sing\n",
            "рассказывает - VERB|Aspect=Imp|Mood=Ind|Number=Sing|Person=3|Tense=Pres|VerbForm=Fin|Voice=Act\n",
            "Артуру - PROPN|Animacy=Anim|Case=Dat|Gender=Masc|Number=Sing\n",
            ", - PUNCT\n",
            "что - SCONJ\n",
            "является - VERB|Aspect=Imp|Mood=Ind|Number=Sing|Person=3|Tense=Pres|VerbForm=Fin|Voice=Mid\n",
            "пришельцем - NOUN|Animacy=Anim|Case=Ins|Gender=Masc|Number=Sing\n",
            "из - ADP\n",
            "окрестностей - NOUN|Animacy=Inan|Case=Gen|Gender=Fem|Number=Plur\n",
            "Бетельгейзе - PROPN|Animacy=Inan|Case=Gen|Gender=Masc|Number=Sing\n",
            "и - CCONJ\n",
            "что - SCONJ\n",
            "планету - NOUN|Animacy=Inan|Case=Acc|Gender=Fem|Number=Sing\n",
            "Земля - PROPN|Animacy=Inan|Case=Nom|Gender=Fem|Number=Sing\n",
            "планируют - VERB|Aspect=Imp|Mood=Ind|Number=Plur|Person=3|Tense=Pres|VerbForm=Fin|Voice=Act\n",
            "уничтожить - VERB|Aspect=Perf|VerbForm=Inf|Voice=Act\n",
            "для - ADP\n",
            "постройки - NOUN|Animacy=Inan|Case=Gen|Gender=Fem|Number=Sing\n",
            "гиперпространственной - ADJ|Animacy=Inan|Case=Acc|Degree=Pos|Number=Plur\n",
            "магистрали - NOUN|Animacy=Inan|Case=Gen|Gender=Fem|Number=Sing\n",
            ". - PUNCT\n",
            "Пытаясь - VERB|Aspect=Imp|Tense=Pres|VerbForm=Conv|Voice=Mid\n",
            "спастись - VERB|Aspect=Perf|VerbForm=Inf|Voice=Mid\n",
            ", - PUNCT\n",
            "друзья - NOUN|Animacy=Anim|Case=Nom|Gender=Masc|Number=Plur\n",
            "перемещаются - VERB|Aspect=Imp|Mood=Ind|Number=Plur|Person=3|Tense=Pres|VerbForm=Fin|Voice=Mid\n",
            "на - ADP\n",
            "корабль - NOUN|Animacy=Inan|Case=Acc|Gender=Masc|Number=Sing\n",
            "инопланетной - ADJ|Case=Gen|Degree=Pos|Gender=Fem|Number=Sing\n",
            "расы - NOUN|Animacy=Inan|Case=Gen|Gender=Fem|Number=Sing\n",
            "вогонов - NOUN|Animacy=Anim|Case=Gen|Gender=Masc|Number=Plur\n",
            "за - ADP\n",
            "считанные - ADJ|Animacy=Inan|Case=Acc|Degree=Pos|Number=Plur\n",
            "мгновения - NOUN|Animacy=Inan|Case=Acc|Gender=Neut|Number=Plur\n",
            "до - ADP\n",
            "того - PRON|Animacy=Inan|Case=Gen|Gender=Neut|Number=Sing\n",
            ", - PUNCT\n",
            "как - SCONJ\n",
            "те - DET|Case=Nom|Number=Plur\n",
            "уничтожают - VERB|Aspect=Imp|Mood=Ind|Number=Plur|Person=3|Tense=Pres|VerbForm=Fin|Voice=Act\n",
            "Землю - PROPN|Animacy=Inan|Case=Acc|Gender=Fem|Number=Sing\n",
            ". - PUNCT\n",
            "За - ADP\n",
            "незаконное - ADJ|Animacy=Inan|Case=Acc|Degree=Pos|Gender=Neut|Number=Sing\n",
            "проникновение - NOUN|Animacy=Inan|Case=Acc|Gender=Neut|Number=Sing\n",
            "их - PRON|Animacy=Inan|Case=Acc|Number=Plur|Person=3\n",
            "пытают - VERB|Aspect=Imp|Mood=Ind|Number=Plur|Person=3|Tense=Pres|VerbForm=Fin|Voice=Act\n",
            "поэзией - NOUN|Animacy=Inan|Case=Ins|Gender=Fem|Number=Sing\n",
            "вогонов - NOUN|Animacy=Inan|Case=Ins|Gender=Fem|Number=Sing\n",
            "( - PUNCT\n",
            "считающейся - VERB|Aspect=Imp|Case=Gen|Gender=Fem|Number=Sing|Tense=Pres|VerbForm=Part|Voice=Pass\n",
            "одной - NUM|Case=Gen|Gender=Fem|Number=Sing\n",
            "из - ADP\n",
            "худших - ADJ|Case=Gen|Degree=Sup|Number=Plur\n",
            "во - ADP\n",
            "Вселенной - PROPN|Animacy=Inan|Case=Loc|Gender=Fem|Number=Sing\n",
            ") - PUNCT\n",
            ", - PUNCT\n",
            "а - CCONJ\n",
            "затем - ADV|Degree=Pos\n",
            "выбрасывают - VERB|Aspect=Imp|Mood=Ind|Number=Plur|Person=3|Tense=Pres|VerbForm=Fin|Voice=Act\n",
            "в - ADP\n",
            "космос - NOUN|Animacy=Inan|Case=Acc|Gender=Masc|Number=Sing\n",
            ", - PUNCT\n",
            "где - ADV|Degree=Pos\n",
            "их - PRON|Animacy=Inan|Case=Acc|Number=Plur|Person=3\n",
            "подбирает - VERB|Aspect=Imp|Mood=Ind|Number=Sing|Person=3|Tense=Pres|VerbForm=Fin|Voice=Act\n",
            "корабль - NOUN|Animacy=Inan|Case=Nom|Gender=Masc|Number=Sing\n",
            "« - PUNCT\n",
            "Heart - X|Foreign=Yes\n",
            "of - X|Foreign=Yes\n",
            "Gold - X|Foreign=Yes\n",
            "» - PUNCT\n",
            ", - PUNCT\n",
            "украденный - VERB|Aspect=Perf|Case=Nom|Gender=Masc|Number=Sing|Tense=Past|VerbForm=Part|Voice=Pass\n",
            "Зафодом - PROPN|Animacy=Anim|Case=Ins|Gender=Masc|Number=Sing\n",
            "Библброксом - PROPN|Animacy=Anim|Case=Dat|Gender=Masc|Number=Sing\n",
            ". - PUNCT\n",
            "Вместе - ADV|Degree=Pos\n",
            "с - ADP\n",
            "Триллиан - PROPN|Animacy=Anim|Case=Ins|Gender=Masc|Number=Sing\n",
            "и - CCONJ\n",
            "роботом - NOUN|Animacy=Anim|Case=Ins|Gender=Masc|Number=Sing\n",
            "Марвином - PROPN|Animacy=Anim|Case=Ins|Gender=Masc|Number=Sing\n",
            "Зафод - PROPN|Animacy=Anim|Case=Ins|Gender=Masc|Number=Sing\n",
            "разыскивает - VERB|Aspect=Imp|Mood=Ind|Number=Sing|Person=3|Tense=Pres|VerbForm=Fin|Voice=Act\n",
            "легендарную - ADJ|Case=Acc|Degree=Pos|Gender=Fem|Number=Sing\n",
            "планету - NOUN|Animacy=Inan|Case=Acc|Gender=Fem|Number=Sing\n",
            "Магратея - PROPN|Animacy=Inan|Case=Nom|Gender=Fem|Number=Sing\n",
            ". - PUNCT\n"
          ]
        },
        {
          "output_type": "execute_result",
          "data": {
            "text/plain": [
              "[None, None, None, None, None, None]"
            ]
          },
          "metadata": {},
          "execution_count": 15
        }
      ]
    },
    {
      "cell_type": "markdown",
      "source": [
        "## Лемматизация"
      ],
      "metadata": {
        "id": "prKp5O8JFM_Q"
      }
    },
    {
      "cell_type": "code",
      "source": [
        "from natasha import Doc, Segmenter, NewsEmbedding, NewsMorphTagger, MorphVocab"
      ],
      "metadata": {
        "id": "Z-LLosLnCz-B"
      },
      "execution_count": null,
      "outputs": []
    },
    {
      "cell_type": "code",
      "source": [
        "def n_lemmatize(text):\n",
        "    emb = NewsEmbedding()\n",
        "    morph_tagger = NewsMorphTagger(emb)\n",
        "    segmenter = Segmenter()\n",
        "    morph_vocab = MorphVocab()\n",
        "    doc = Doc(text)\n",
        "    doc.segment(segmenter)\n",
        "    doc.tag_morph(morph_tagger)\n",
        "    for token in doc.tokens:\n",
        "        token.lemmatize(morph_vocab)\n",
        "    return doc"
      ],
      "metadata": {
        "id": "c6uz2MgrFPrB"
      },
      "execution_count": null,
      "outputs": []
    },
    {
      "cell_type": "code",
      "source": [
        "n_doc = n_lemmatize(text)\n",
        "{_.text: _.lemma for _ in n_doc.tokens}"
      ],
      "metadata": {
        "colab": {
          "base_uri": "https://localhost:8080/"
        },
        "id": "O6V1qrYEFQR-",
        "outputId": "09590a01-3672-4649-c963-a78abd90c29e"
      },
      "execution_count": null,
      "outputs": [
        {
          "output_type": "execute_result",
          "data": {
            "text/plain": [
              "{'(': '(',\n",
              " ')': ')',\n",
              " ',': ',',\n",
              " '.': '.',\n",
              " 'Gold': 'gold',\n",
              " 'Heart': 'heart',\n",
              " 'of': 'of',\n",
              " '«': '«',\n",
              " '»': '»',\n",
              " 'Артур': 'артур',\n",
              " 'Артура': 'артур',\n",
              " 'Артуру': 'артур',\n",
              " 'Бетельгейзе': 'бетельгейза',\n",
              " 'Библброксом': 'библброкс',\n",
              " 'Вместе': 'вместе',\n",
              " 'Вселенной': 'вселенная',\n",
              " 'Дента': 'дента',\n",
              " 'За': 'за',\n",
              " 'Зафод': 'зафод',\n",
              " 'Зафодом': 'зафод',\n",
              " 'Землю': 'земля',\n",
              " 'Земля': 'земля',\n",
              " 'Книга': 'книга',\n",
              " 'Магратея': 'магратея',\n",
              " 'Марвином': 'марвин',\n",
              " 'Префект': 'префект',\n",
              " 'Пытаясь': 'пытаться',\n",
              " 'Триллиан': 'триллиан',\n",
              " 'Форд': 'форд',\n",
              " 'Чтобы': 'чтобы',\n",
              " 'а': 'а',\n",
              " 'автодороги': 'автодорога',\n",
              " 'бульдозером': 'бульдозер',\n",
              " 'в': 'в',\n",
              " 'во': 'в',\n",
              " 'вогонов': 'вогон',\n",
              " 'выбрасывают': 'выбрасывать',\n",
              " 'где': 'где',\n",
              " 'героя': 'герой',\n",
              " 'гиперпространственной': 'гиперпространственный',\n",
              " 'главного': 'главный',\n",
              " 'для': 'для',\n",
              " 'до': 'до',\n",
              " 'дом': 'дом',\n",
              " 'друг': 'друг',\n",
              " 'друзья': 'друг',\n",
              " 'его': 'он',\n",
              " 'за': 'за',\n",
              " 'затем': 'затем',\n",
              " 'и': 'и',\n",
              " 'из': 'из',\n",
              " 'инопланетной': 'инопланетный',\n",
              " 'их': 'они',\n",
              " 'как': 'как',\n",
              " 'корабль': 'корабль',\n",
              " 'космос': 'космос',\n",
              " 'легендарную': 'легендарный',\n",
              " 'ложится': 'ложиться',\n",
              " 'магистрали': 'магистраль',\n",
              " 'мгновения': 'мгновение',\n",
              " 'на': 'на',\n",
              " 'начинается': 'начинаться',\n",
              " 'незаконное': 'незаконный',\n",
              " 'новой': 'новый',\n",
              " 'одной': 'один',\n",
              " 'окрестностей': 'окрестность',\n",
              " 'остановить': 'остановить',\n",
              " 'перед': 'перед',\n",
              " 'перемещаются': 'перемещаться',\n",
              " 'планету': 'планета',\n",
              " 'планируют': 'планировать',\n",
              " 'подбирает': 'подбирать',\n",
              " 'после': 'после',\n",
              " 'постройки': 'постройка',\n",
              " 'поэзией': 'поэзия',\n",
              " 'прибывает': 'прибывать',\n",
              " 'пришельцем': 'пришелец',\n",
              " 'проникновение': 'проникновение',\n",
              " 'пытают': 'пытать',\n",
              " 'пытаются': 'пытаться',\n",
              " 'разыскивает': 'разыскивать',\n",
              " 'рассказывает': 'рассказывать',\n",
              " 'расы': 'раса',\n",
              " 'роботом': 'робот',\n",
              " 'с': 'с',\n",
              " 'снести': 'снести',\n",
              " 'снос': 'снос',\n",
              " 'спастись': 'спастись',\n",
              " 'считанные': 'считать',\n",
              " 'считающейся': 'считаться',\n",
              " 'те': 'тот',\n",
              " 'того': 'тот',\n",
              " 'украденный': 'украсть',\n",
              " 'уничтожают': 'уничтожать',\n",
              " 'уничтожить': 'уничтожить',\n",
              " 'худших': 'плохой',\n",
              " 'чего': 'что',\n",
              " 'что': 'что',\n",
              " 'является': 'являться'}"
            ]
          },
          "metadata": {},
          "execution_count": 18
        }
      ]
    },
    {
      "cell_type": "markdown",
      "source": [
        "## Выделение (распознавание) именованных сущностей"
      ],
      "metadata": {
        "id": "2cVioe0WFoEl"
      }
    },
    {
      "cell_type": "code",
      "source": [
        "from slovnet import NER\n",
        "from ipymarkup import show_span_ascii_markup as show_markup"
      ],
      "metadata": {
        "id": "1pYV28fdFQPc"
      },
      "execution_count": null,
      "outputs": []
    },
    {
      "cell_type": "code",
      "source": [
        "ner = NER.load('/content/drive/MyDrive/datasets/slovnet_ner_news_v1.tar')"
      ],
      "metadata": {
        "id": "KHmqWSgmFQNK"
      },
      "execution_count": null,
      "outputs": []
    },
    {
      "cell_type": "code",
      "source": [
        "ner_res = ner.navec(navec)"
      ],
      "metadata": {
        "id": "5TPzI2ntFQKw"
      },
      "execution_count": null,
      "outputs": []
    },
    {
      "cell_type": "code",
      "source": [
        "markup_ner = ner(text)\n",
        "markup_ner"
      ],
      "metadata": {
        "colab": {
          "base_uri": "https://localhost:8080/"
        },
        "id": "pAdWg3W6FQIF",
        "outputId": "07a3834c-f2ff-4671-8606-fd663ec8bacb"
      },
      "execution_count": null,
      "outputs": [
        {
          "output_type": "execute_result",
          "data": {
            "text/plain": [
              "SpanMarkup(\n",
              "    text='Книга начинается с того, что дом главного героя Артура Дента пытаются снести для постройки новой автодороги. Чтобы остановить снос, Артур ложится перед бульдозером, после чего прибывает его друг Форд Префект. Форд рассказывает Артуру, что является пришельцем из окрестностей Бетельгейзе и что планету Земля планируют уничтожить для постройки гиперпространственной магистрали. Пытаясь спастись, друзья перемещаются на корабль инопланетной расы вогонов за считанные мгновения до того, как те уничтожают Землю. За незаконное проникновение их пытают поэзией вогонов (считающейся одной из худших во Вселенной), а затем выбрасывают в космос, где их подбирает корабль «Heart of Gold», украденный Зафодом Библброксом. Вместе с Триллиан и роботом Марвином Зафод разыскивает легендарную планету Магратея.',\n",
              "    spans=[Span(\n",
              "         start=48,\n",
              "         stop=60,\n",
              "         type='PER'\n",
              "     ), Span(\n",
              "         start=132,\n",
              "         stop=137,\n",
              "         type='PER'\n",
              "     ), Span(\n",
              "         start=195,\n",
              "         stop=207,\n",
              "         type='PER'\n",
              "     ), Span(\n",
              "         start=209,\n",
              "         stop=213,\n",
              "         type='PER'\n",
              "     ), Span(\n",
              "         start=227,\n",
              "         stop=233,\n",
              "         type='PER'\n",
              "     ), Span(\n",
              "         start=275,\n",
              "         stop=286,\n",
              "         type='LOC'\n",
              "     ), Span(\n",
              "         start=301,\n",
              "         stop=306,\n",
              "         type='LOC'\n",
              "     ), Span(\n",
              "         start=501,\n",
              "         stop=506,\n",
              "         type='LOC'\n",
              "     ), Span(\n",
              "         start=689,\n",
              "         stop=708,\n",
              "         type='PER'\n",
              "     ), Span(\n",
              "         start=719,\n",
              "         stop=727,\n",
              "         type='PER'\n",
              "     ), Span(\n",
              "         start=738,\n",
              "         stop=752,\n",
              "         type='PER'\n",
              "     ), Span(\n",
              "         start=785,\n",
              "         stop=793,\n",
              "         type='LOC'\n",
              "     )]\n",
              ")"
            ]
          },
          "metadata": {},
          "execution_count": 23
        }
      ]
    },
    {
      "cell_type": "code",
      "source": [
        "show_markup(markup_ner.text, markup_ner.spans)"
      ],
      "metadata": {
        "colab": {
          "base_uri": "https://localhost:8080/"
        },
        "id": "oc1TaHajFQFU",
        "outputId": "4535a6f6-5093-4c7f-fd35-369f1b3f9d01"
      },
      "execution_count": null,
      "outputs": [
        {
          "output_type": "stream",
          "name": "stdout",
          "text": [
            "Книга начинается с того, что дом главного героя Артура Дента пытаются \n",
            "                                                PER─────────          \n",
            "снести для постройки новой автодороги. Чтобы остановить снос, Артур \n",
            "                                                              PER── \n",
            "ложится перед бульдозером, после чего прибывает его друг Форд Префект.\n",
            "                                                         PER───────── \n",
            " Форд рассказывает Артуру, что является пришельцем из окрестностей \n",
            " PER─              PER───                                          \n",
            "Бетельгейзе и что планету Земля планируют уничтожить для постройки \n",
            "LOC────────               LOC──                                    \n",
            "гиперпространственной магистрали. Пытаясь спастись, друзья \n",
            "перемещаются на корабль инопланетной расы вогонов за считанные \n",
            "мгновения до того, как те уничтожают Землю. За незаконное \n",
            "                                     LOC──                \n",
            "проникновение их пытают поэзией вогонов (считающейся одной из худших \n",
            "во Вселенной), а затем выбрасывают в космос, где их подбирает корабль \n",
            "«Heart of Gold», украденный Зафодом Библброксом. Вместе с Триллиан и \n",
            "                            PER────────────────           PER─────   \n",
            "роботом Марвином Зафод разыскивает легендарную планету Магратея.\n",
            "        PER───────────                                 LOC───── \n"
          ]
        }
      ]
    },
    {
      "cell_type": "markdown",
      "source": [
        "## Разбор предложения"
      ],
      "metadata": {
        "id": "oRcNrR6_GJ7N"
      }
    },
    {
      "cell_type": "code",
      "source": [
        "from natasha import NewsSyntaxParser"
      ],
      "metadata": {
        "id": "ZvE2mp0cGJ0v"
      },
      "execution_count": null,
      "outputs": []
    },
    {
      "cell_type": "code",
      "source": [
        "emb = NewsEmbedding()\n",
        "syntax_parser = NewsSyntaxParser(emb)"
      ],
      "metadata": {
        "id": "fbi5jZsmGJyP"
      },
      "execution_count": null,
      "outputs": []
    },
    {
      "cell_type": "code",
      "source": [
        "n_doc.parse_syntax(syntax_parser)\n",
        "\n",
        "for sent in n_doc.sents:\n",
        "  sent.syntax.print()\n",
        "  print('')"
      ],
      "metadata": {
        "colab": {
          "base_uri": "https://localhost:8080/"
        },
        "id": "YQCMZKTZGJvv",
        "outputId": "b9cd29ef-95d1-4b34-8230-856af05000ba"
      },
      "execution_count": null,
      "outputs": [
        {
          "output_type": "stream",
          "name": "stdout",
          "text": [
            "            ┌► Книга      nsubj\n",
            "┌─────────┌─└─ начинается \n",
            "│         │ ┌► с          case\n",
            "│ ┌───────└►└─ того       obl\n",
            "│ │ ┌────────► ,          punct\n",
            "│ │ │ ┌──────► что        mark\n",
            "│ │ │ │ ┌►┌─── дом        nsubj\n",
            "│ │ │ │ │ │ ┌► главного   amod\n",
            "│ │ │ │ │ └►└─ героя      nmod\n",
            "│ │ │ │ │ └►┌─ Артура     appos\n",
            "│ │ │ │ │   └► Дента      flat:name\n",
            "│ └►└─└─└───┌─ пытаются   acl\n",
            "│         ┌─└► снести     xcomp\n",
            "│         │ ┌► для        case\n",
            "│       ┌─└►└─ постройки  obl\n",
            "│       │   ┌► новой      amod\n",
            "│       └──►└─ автодороги nmod\n",
            "└────────────► .          punct\n",
            "\n",
            "          ┌► Чтобы       mark\n",
            "    ┌►┌─┌─└─ остановить  advcl\n",
            "    │ │ └──► снос        obj\n",
            "    │ └────► ,           punct\n",
            "    │     ┌► Артур       nsubj\n",
            "┌─┌─└───┌─└─ ложится     \n",
            "│ │     │ ┌► перед       case\n",
            "│ │     └►└─ бульдозером obl\n",
            "│ │   ┌────► ,           punct\n",
            "│ │   │   ┌► после       case\n",
            "│ │   │ ┌►└─ чего        obl\n",
            "│ └──►└─└─── прибывает   parataxis\n",
            "│     │   ┌► его         nmod\n",
            "│     └►┌─└─ друг        nsubj\n",
            "│       └►┌─ Форд        appos\n",
            "│         └► Префект     flat:name\n",
            "└──────────► .           punct\n",
            "\n",
            "          ┌► Форд                  nsubj\n",
            "┌─┌───┌─┌─└─ рассказывает          \n",
            "│ │   │ └──► Артуру                iobj\n",
            "│ │   │ ┌──► ,                     punct\n",
            "│ │   │ │ ┌► что                   nsubj\n",
            "│ │   └►└─└─ является              ccomp\n",
            "│ │   ┌─└──► пришельцем            xcomp\n",
            "│ │   │   ┌► из                    case\n",
            "│ │   └►┌─└─ окрестностей          nmod\n",
            "│ │     └──► Бетельгейзе           nmod\n",
            "│ │ ┌──────► и                     cc\n",
            "│ │ │   ┌──► что                   mark\n",
            "│ │ │ ┌►│ ┌─ планету               obj\n",
            "│ │ │ │ │ └► Земля                 appos\n",
            "│ └►└─│ └─┌─ планируют             ccomp\n",
            "│     └─┌─└► уничтожить            xcomp\n",
            "│       │ ┌► для                   case\n",
            "│     ┌─└►└─ постройки             obl\n",
            "│     │   ┌► гиперпространственной amod\n",
            "│     └──►└─ магистрали            nmod\n",
            "└──────────► .                     punct\n",
            "\n",
            "        ┌──► Пытаясь      advcl\n",
            "        │    спастись     \n",
            "        │    ,            \n",
            "        │ ┌► друзья       nsubj\n",
            "┌─┌─┌───└─└─ перемещаются \n",
            "│ │ │   │ ┌► на           case\n",
            "│ │ │ ┌─└►└─ корабль      obl\n",
            "│ │ │ │   ┌► инопланетной amod\n",
            "│ │ │ └►┌─└─ расы         nmod\n",
            "│ │ │   └──► вогонов      nmod\n",
            "│ │ │   ┌──► за           case\n",
            "│ │ │   │ ┌► считанные    amod\n",
            "│ │ └──►└─└─ мгновения    obl\n",
            "│ │       ┌► до           case\n",
            "│ └►┌─────└─ того         obl\n",
            "│   │ ┌────► ,            punct\n",
            "│   │ │ ┌──► как          mark\n",
            "│   │ │ │ ┌► те           nsubj\n",
            "│   └►└─└─└─ уничтожают   acl\n",
            "│       └──► Землю        obj\n",
            "└──────────► .            punct\n",
            "\n",
            "          ┌──► За            case\n",
            "          │ ┌► незаконное    amod\n",
            "        ┌►└─└─ проникновение obl\n",
            "        │   ┌► их            obj\n",
            "┌───┌───└─┌─└─ пытают        \n",
            "│   │     └►┌─ поэзией       obl\n",
            "│ ┌─│   ┌─┌─└► вогонов       nmod\n",
            "│ │ │   │ │ ┌► (             punct\n",
            "│ │ │ ┌─│ └►└─ считающейся   parataxis\n",
            "│ │ │ │ └►┌─── одной         nummod\n",
            "│ │ │ │   │ ┌► из            case\n",
            "│ │ │ │ ┌─└►└─ худших        nmod\n",
            "│ │ │ │ │   ┌► во            case\n",
            "│ │ │ │ └──►└─ Вселенной     nmod\n",
            "│ │ │ └──────► )             punct\n",
            "│ │ │   ┌────► ,             punct\n",
            "│ │ │   │ ┌──► а             cc\n",
            "│ │ │   │ │ ┌► затем         advmod\n",
            "│ │ └──►└─└─└─ выбрасывают   conj\n",
            "│ │     │   ┌► в             case\n",
            "│ │     └──►└─ космос        obl\n",
            "│ │     ┌────► ,             punct\n",
            "│ │     │ ┌──► где           advmod\n",
            "│ │     │ │ ┌► их            obj\n",
            "│ └────►└─└─└─ подбирает     acl:relcl\n",
            "│ ┌─────┌─└──► корабль       nsubj\n",
            "│ │     │   ┌► «             punct\n",
            "│ │ ┌─┌─└►┌─└─ Heart         appos\n",
            "│ │ │ │   └──► of            flat:foreign\n",
            "│ │ │ └──────► Gold          flat:foreign\n",
            "│ │ └────────► »             punct\n",
            "│ │         ┌► ,             punct\n",
            "│ └──────►┌─└─ украденный    acl\n",
            "│         └►┌─ Зафодом       obl:agent\n",
            "│           └► Библброксом   flat:name\n",
            "└────────────► .             punct\n",
            "\n",
            "┌────► Вместе      advmod\n",
            "│   ┌► с           case\n",
            "│ ┌─└─ Триллиан    \n",
            "│ │ ┌► и           cc\n",
            "│ └►└─ роботом     conj\n",
            "│ └►┌─ Марвином    appos\n",
            "│   └► Зафод       flat:name\n",
            "└─┌─── разыскивает \n",
            "│ │ ┌► легендарную amod\n",
            "│ └►└─ планету     obj\n",
            "│ └──► Магратея    appos\n",
            "└────► .           punct\n",
            "\n"
          ]
        }
      ]
    },
    {
      "cell_type": "markdown",
      "source": [
        "# Классификация текстов"
      ],
      "metadata": {
        "id": "u9DLqiKEHSL6"
      }
    },
    {
      "cell_type": "code",
      "source": [
        "import numpy as np\n",
        "import pandas as pd\n",
        "from typing import Dict, Tuple\n",
        "from scipy import stats\n",
        "from IPython.display import Image\n",
        "from sklearn.datasets import load_iris, load_boston\n",
        "from sklearn.feature_extraction.text import CountVectorizer, TfidfVectorizer\n",
        "from sklearn.model_selection import train_test_split\n",
        "from sklearn.neighbors import KNeighborsRegressor, KNeighborsClassifier\n",
        "from sklearn.linear_model import LogisticRegression\n",
        "from sklearn.model_selection import GridSearchCV, RandomizedSearchCV\n",
        "from sklearn.metrics import accuracy_score, balanced_accuracy_score\n",
        "from sklearn.metrics import precision_score, recall_score, f1_score, classification_report\n",
        "from sklearn.metrics import confusion_matrix\n",
        "from sklearn.model_selection import cross_val_score\n",
        "from sklearn.pipeline import Pipeline\n",
        "from sklearn.metrics import mean_absolute_error, mean_squared_error, mean_squared_log_error, median_absolute_error, r2_score \n",
        "from sklearn.metrics import roc_curve, roc_auc_score\n",
        "from sklearn.svm import SVC, NuSVC, LinearSVC, OneClassSVM, SVR, NuSVR, LinearSVR\n",
        "import seaborn as sns\n",
        "import matplotlib.pyplot as plt\n",
        "%matplotlib inline \n",
        "sns.set(style=\"ticks\")"
      ],
      "metadata": {
        "id": "PUCj93yqIkje"
      },
      "execution_count": null,
      "outputs": []
    },
    {
      "cell_type": "markdown",
      "source": [
        "## TfIdfVectorizer"
      ],
      "metadata": {
        "id": "qAb_h_RxHWip"
      }
    },
    {
      "cell_type": "code",
      "source": [
        "def accuracy_score_for_classes(\n",
        "    y_true: np.ndarray, \n",
        "    y_pred: np.ndarray) -> Dict[int, float]:\n",
        "    \"\"\"\n",
        "    Вычисление метрики accuracy для каждого класса\n",
        "    y_true - истинные значения классов\n",
        "    y_pred - предсказанные значения классов\n",
        "    Возвращает словарь: ключ - метка класса, \n",
        "    значение - Accuracy для данного класса\n",
        "    \"\"\"\n",
        "    # Для удобства фильтрации сформируем Pandas DataFrame \n",
        "    d = {'t': y_true, 'p': y_pred}\n",
        "    df = pd.DataFrame(data=d)\n",
        "    # Метки классов\n",
        "    classes = np.unique(y_true)\n",
        "    # Результирующий словарь\n",
        "    res = dict()\n",
        "    # Перебор меток классов\n",
        "    for c in classes:\n",
        "        # отфильтруем данные, которые соответствуют \n",
        "        # текущей метке класса в истинных значениях\n",
        "        temp_data_flt = df[df['t']==c]\n",
        "        # расчет accuracy для заданной метки класса\n",
        "        temp_acc = accuracy_score(\n",
        "            temp_data_flt['t'].values, \n",
        "            temp_data_flt['p'].values)\n",
        "        # сохранение результата в словарь\n",
        "        res[c] = temp_acc\n",
        "    return res\n",
        "\n",
        "def print_accuracy_score_for_classes(\n",
        "    y_true: np.ndarray, \n",
        "    y_pred: np.ndarray):\n",
        "    \"\"\"\n",
        "    Вывод метрики accuracy для каждого класса\n",
        "    \"\"\"\n",
        "    accs = accuracy_score_for_classes(y_true, y_pred)\n",
        "    if len(accs)>0:\n",
        "        print('Метка \\t Accuracy')\n",
        "    for i in accs:\n",
        "        print('{} \\t {}'.format(i, accs[i]))"
      ],
      "metadata": {
        "id": "yfoKausuIeEZ"
      },
      "execution_count": null,
      "outputs": []
    },
    {
      "cell_type": "code",
      "source": [
        "# Загрузка данных\n",
        "df = pd.read_csv(\"/content/drive/MyDrive/datasets/spam.csv\")\n",
        "df.head()"
      ],
      "metadata": {
        "colab": {
          "base_uri": "https://localhost:8080/",
          "height": 206
        },
        "id": "4AoJ08CuGJtF",
        "outputId": "a6a10a22-b385-4f75-ca5e-3c317f5e3e6f"
      },
      "execution_count": null,
      "outputs": [
        {
          "output_type": "execute_result",
          "data": {
            "text/plain": [
              "  Category                                            Message\n",
              "0      ham  Go until jurong point, crazy.. Available only ...\n",
              "1      ham                      Ok lar... Joking wif u oni...\n",
              "2     spam  Free entry in 2 a wkly comp to win FA Cup fina...\n",
              "3      ham  U dun say so early hor... U c already then say...\n",
              "4      ham  Nah I don't think he goes to usf, he lives aro..."
            ],
            "text/html": [
              "\n",
              "  <div id=\"df-d05e2151-3042-4615-b13e-67f4e47c59d6\">\n",
              "    <div class=\"colab-df-container\">\n",
              "      <div>\n",
              "<style scoped>\n",
              "    .dataframe tbody tr th:only-of-type {\n",
              "        vertical-align: middle;\n",
              "    }\n",
              "\n",
              "    .dataframe tbody tr th {\n",
              "        vertical-align: top;\n",
              "    }\n",
              "\n",
              "    .dataframe thead th {\n",
              "        text-align: right;\n",
              "    }\n",
              "</style>\n",
              "<table border=\"1\" class=\"dataframe\">\n",
              "  <thead>\n",
              "    <tr style=\"text-align: right;\">\n",
              "      <th></th>\n",
              "      <th>Category</th>\n",
              "      <th>Message</th>\n",
              "    </tr>\n",
              "  </thead>\n",
              "  <tbody>\n",
              "    <tr>\n",
              "      <th>0</th>\n",
              "      <td>ham</td>\n",
              "      <td>Go until jurong point, crazy.. Available only ...</td>\n",
              "    </tr>\n",
              "    <tr>\n",
              "      <th>1</th>\n",
              "      <td>ham</td>\n",
              "      <td>Ok lar... Joking wif u oni...</td>\n",
              "    </tr>\n",
              "    <tr>\n",
              "      <th>2</th>\n",
              "      <td>spam</td>\n",
              "      <td>Free entry in 2 a wkly comp to win FA Cup fina...</td>\n",
              "    </tr>\n",
              "    <tr>\n",
              "      <th>3</th>\n",
              "      <td>ham</td>\n",
              "      <td>U dun say so early hor... U c already then say...</td>\n",
              "    </tr>\n",
              "    <tr>\n",
              "      <th>4</th>\n",
              "      <td>ham</td>\n",
              "      <td>Nah I don't think he goes to usf, he lives aro...</td>\n",
              "    </tr>\n",
              "  </tbody>\n",
              "</table>\n",
              "</div>\n",
              "      <button class=\"colab-df-convert\" onclick=\"convertToInteractive('df-d05e2151-3042-4615-b13e-67f4e47c59d6')\"\n",
              "              title=\"Convert this dataframe to an interactive table.\"\n",
              "              style=\"display:none;\">\n",
              "        \n",
              "  <svg xmlns=\"http://www.w3.org/2000/svg\" height=\"24px\"viewBox=\"0 0 24 24\"\n",
              "       width=\"24px\">\n",
              "    <path d=\"M0 0h24v24H0V0z\" fill=\"none\"/>\n",
              "    <path d=\"M18.56 5.44l.94 2.06.94-2.06 2.06-.94-2.06-.94-.94-2.06-.94 2.06-2.06.94zm-11 1L8.5 8.5l.94-2.06 2.06-.94-2.06-.94L8.5 2.5l-.94 2.06-2.06.94zm10 10l.94 2.06.94-2.06 2.06-.94-2.06-.94-.94-2.06-.94 2.06-2.06.94z\"/><path d=\"M17.41 7.96l-1.37-1.37c-.4-.4-.92-.59-1.43-.59-.52 0-1.04.2-1.43.59L10.3 9.45l-7.72 7.72c-.78.78-.78 2.05 0 2.83L4 21.41c.39.39.9.59 1.41.59.51 0 1.02-.2 1.41-.59l7.78-7.78 2.81-2.81c.8-.78.8-2.07 0-2.86zM5.41 20L4 18.59l7.72-7.72 1.47 1.35L5.41 20z\"/>\n",
              "  </svg>\n",
              "      </button>\n",
              "      \n",
              "  <style>\n",
              "    .colab-df-container {\n",
              "      display:flex;\n",
              "      flex-wrap:wrap;\n",
              "      gap: 12px;\n",
              "    }\n",
              "\n",
              "    .colab-df-convert {\n",
              "      background-color: #E8F0FE;\n",
              "      border: none;\n",
              "      border-radius: 50%;\n",
              "      cursor: pointer;\n",
              "      display: none;\n",
              "      fill: #1967D2;\n",
              "      height: 32px;\n",
              "      padding: 0 0 0 0;\n",
              "      width: 32px;\n",
              "    }\n",
              "\n",
              "    .colab-df-convert:hover {\n",
              "      background-color: #E2EBFA;\n",
              "      box-shadow: 0px 1px 2px rgba(60, 64, 67, 0.3), 0px 1px 3px 1px rgba(60, 64, 67, 0.15);\n",
              "      fill: #174EA6;\n",
              "    }\n",
              "\n",
              "    [theme=dark] .colab-df-convert {\n",
              "      background-color: #3B4455;\n",
              "      fill: #D2E3FC;\n",
              "    }\n",
              "\n",
              "    [theme=dark] .colab-df-convert:hover {\n",
              "      background-color: #434B5C;\n",
              "      box-shadow: 0px 1px 3px 1px rgba(0, 0, 0, 0.15);\n",
              "      filter: drop-shadow(0px 1px 2px rgba(0, 0, 0, 0.3));\n",
              "      fill: #FFFFFF;\n",
              "    }\n",
              "  </style>\n",
              "\n",
              "      <script>\n",
              "        const buttonEl =\n",
              "          document.querySelector('#df-d05e2151-3042-4615-b13e-67f4e47c59d6 button.colab-df-convert');\n",
              "        buttonEl.style.display =\n",
              "          google.colab.kernel.accessAllowed ? 'block' : 'none';\n",
              "\n",
              "        async function convertToInteractive(key) {\n",
              "          const element = document.querySelector('#df-d05e2151-3042-4615-b13e-67f4e47c59d6');\n",
              "          const dataTable =\n",
              "            await google.colab.kernel.invokeFunction('convertToInteractive',\n",
              "                                                     [key], {});\n",
              "          if (!dataTable) return;\n",
              "\n",
              "          const docLinkHtml = 'Like what you see? Visit the ' +\n",
              "            '<a target=\"_blank\" href=https://colab.research.google.com/notebooks/data_table.ipynb>data table notebook</a>'\n",
              "            + ' to learn more about interactive tables.';\n",
              "          element.innerHTML = '';\n",
              "          dataTable['output_type'] = 'display_data';\n",
              "          await google.colab.output.renderOutput(dataTable, element);\n",
              "          const docLink = document.createElement('div');\n",
              "          docLink.innerHTML = docLinkHtml;\n",
              "          element.appendChild(docLink);\n",
              "        }\n",
              "      </script>\n",
              "    </div>\n",
              "  </div>\n",
              "  "
            ]
          },
          "metadata": {},
          "execution_count": 4
        }
      ]
    },
    {
      "cell_type": "code",
      "source": [
        "df['Category'] = df['Category'].astype('category')\n",
        "df['Spam'] = df['Category'].cat.codes\n",
        "df.head()"
      ],
      "metadata": {
        "colab": {
          "base_uri": "https://localhost:8080/",
          "height": 206
        },
        "id": "pxL1DuY0GJqe",
        "outputId": "a31ecf61-aee6-476d-c618-6cc5ac6205e6"
      },
      "execution_count": null,
      "outputs": [
        {
          "output_type": "execute_result",
          "data": {
            "text/plain": [
              "  Category                                            Message  Spam\n",
              "0      ham  Go until jurong point, crazy.. Available only ...     0\n",
              "1      ham                      Ok lar... Joking wif u oni...     0\n",
              "2     spam  Free entry in 2 a wkly comp to win FA Cup fina...     1\n",
              "3      ham  U dun say so early hor... U c already then say...     0\n",
              "4      ham  Nah I don't think he goes to usf, he lives aro...     0"
            ],
            "text/html": [
              "\n",
              "  <div id=\"df-e6d5eea1-fae8-4221-a46f-2ec4f97acda8\">\n",
              "    <div class=\"colab-df-container\">\n",
              "      <div>\n",
              "<style scoped>\n",
              "    .dataframe tbody tr th:only-of-type {\n",
              "        vertical-align: middle;\n",
              "    }\n",
              "\n",
              "    .dataframe tbody tr th {\n",
              "        vertical-align: top;\n",
              "    }\n",
              "\n",
              "    .dataframe thead th {\n",
              "        text-align: right;\n",
              "    }\n",
              "</style>\n",
              "<table border=\"1\" class=\"dataframe\">\n",
              "  <thead>\n",
              "    <tr style=\"text-align: right;\">\n",
              "      <th></th>\n",
              "      <th>Category</th>\n",
              "      <th>Message</th>\n",
              "      <th>Spam</th>\n",
              "    </tr>\n",
              "  </thead>\n",
              "  <tbody>\n",
              "    <tr>\n",
              "      <th>0</th>\n",
              "      <td>ham</td>\n",
              "      <td>Go until jurong point, crazy.. Available only ...</td>\n",
              "      <td>0</td>\n",
              "    </tr>\n",
              "    <tr>\n",
              "      <th>1</th>\n",
              "      <td>ham</td>\n",
              "      <td>Ok lar... Joking wif u oni...</td>\n",
              "      <td>0</td>\n",
              "    </tr>\n",
              "    <tr>\n",
              "      <th>2</th>\n",
              "      <td>spam</td>\n",
              "      <td>Free entry in 2 a wkly comp to win FA Cup fina...</td>\n",
              "      <td>1</td>\n",
              "    </tr>\n",
              "    <tr>\n",
              "      <th>3</th>\n",
              "      <td>ham</td>\n",
              "      <td>U dun say so early hor... U c already then say...</td>\n",
              "      <td>0</td>\n",
              "    </tr>\n",
              "    <tr>\n",
              "      <th>4</th>\n",
              "      <td>ham</td>\n",
              "      <td>Nah I don't think he goes to usf, he lives aro...</td>\n",
              "      <td>0</td>\n",
              "    </tr>\n",
              "  </tbody>\n",
              "</table>\n",
              "</div>\n",
              "      <button class=\"colab-df-convert\" onclick=\"convertToInteractive('df-e6d5eea1-fae8-4221-a46f-2ec4f97acda8')\"\n",
              "              title=\"Convert this dataframe to an interactive table.\"\n",
              "              style=\"display:none;\">\n",
              "        \n",
              "  <svg xmlns=\"http://www.w3.org/2000/svg\" height=\"24px\"viewBox=\"0 0 24 24\"\n",
              "       width=\"24px\">\n",
              "    <path d=\"M0 0h24v24H0V0z\" fill=\"none\"/>\n",
              "    <path d=\"M18.56 5.44l.94 2.06.94-2.06 2.06-.94-2.06-.94-.94-2.06-.94 2.06-2.06.94zm-11 1L8.5 8.5l.94-2.06 2.06-.94-2.06-.94L8.5 2.5l-.94 2.06-2.06.94zm10 10l.94 2.06.94-2.06 2.06-.94-2.06-.94-.94-2.06-.94 2.06-2.06.94z\"/><path d=\"M17.41 7.96l-1.37-1.37c-.4-.4-.92-.59-1.43-.59-.52 0-1.04.2-1.43.59L10.3 9.45l-7.72 7.72c-.78.78-.78 2.05 0 2.83L4 21.41c.39.39.9.59 1.41.59.51 0 1.02-.2 1.41-.59l7.78-7.78 2.81-2.81c.8-.78.8-2.07 0-2.86zM5.41 20L4 18.59l7.72-7.72 1.47 1.35L5.41 20z\"/>\n",
              "  </svg>\n",
              "      </button>\n",
              "      \n",
              "  <style>\n",
              "    .colab-df-container {\n",
              "      display:flex;\n",
              "      flex-wrap:wrap;\n",
              "      gap: 12px;\n",
              "    }\n",
              "\n",
              "    .colab-df-convert {\n",
              "      background-color: #E8F0FE;\n",
              "      border: none;\n",
              "      border-radius: 50%;\n",
              "      cursor: pointer;\n",
              "      display: none;\n",
              "      fill: #1967D2;\n",
              "      height: 32px;\n",
              "      padding: 0 0 0 0;\n",
              "      width: 32px;\n",
              "    }\n",
              "\n",
              "    .colab-df-convert:hover {\n",
              "      background-color: #E2EBFA;\n",
              "      box-shadow: 0px 1px 2px rgba(60, 64, 67, 0.3), 0px 1px 3px 1px rgba(60, 64, 67, 0.15);\n",
              "      fill: #174EA6;\n",
              "    }\n",
              "\n",
              "    [theme=dark] .colab-df-convert {\n",
              "      background-color: #3B4455;\n",
              "      fill: #D2E3FC;\n",
              "    }\n",
              "\n",
              "    [theme=dark] .colab-df-convert:hover {\n",
              "      background-color: #434B5C;\n",
              "      box-shadow: 0px 1px 3px 1px rgba(0, 0, 0, 0.15);\n",
              "      filter: drop-shadow(0px 1px 2px rgba(0, 0, 0, 0.3));\n",
              "      fill: #FFFFFF;\n",
              "    }\n",
              "  </style>\n",
              "\n",
              "      <script>\n",
              "        const buttonEl =\n",
              "          document.querySelector('#df-e6d5eea1-fae8-4221-a46f-2ec4f97acda8 button.colab-df-convert');\n",
              "        buttonEl.style.display =\n",
              "          google.colab.kernel.accessAllowed ? 'block' : 'none';\n",
              "\n",
              "        async function convertToInteractive(key) {\n",
              "          const element = document.querySelector('#df-e6d5eea1-fae8-4221-a46f-2ec4f97acda8');\n",
              "          const dataTable =\n",
              "            await google.colab.kernel.invokeFunction('convertToInteractive',\n",
              "                                                     [key], {});\n",
              "          if (!dataTable) return;\n",
              "\n",
              "          const docLinkHtml = 'Like what you see? Visit the ' +\n",
              "            '<a target=\"_blank\" href=https://colab.research.google.com/notebooks/data_table.ipynb>data table notebook</a>'\n",
              "            + ' to learn more about interactive tables.';\n",
              "          element.innerHTML = '';\n",
              "          dataTable['output_type'] = 'display_data';\n",
              "          await google.colab.output.renderOutput(dataTable, element);\n",
              "          const docLink = document.createElement('div');\n",
              "          docLink.innerHTML = docLinkHtml;\n",
              "          element.appendChild(docLink);\n",
              "        }\n",
              "      </script>\n",
              "    </div>\n",
              "  </div>\n",
              "  "
            ]
          },
          "metadata": {},
          "execution_count": 5
        }
      ]
    },
    {
      "cell_type": "code",
      "source": [
        "df = df.drop('Category', axis = 1)"
      ],
      "metadata": {
        "id": "IS5IrbMwKAsk"
      },
      "execution_count": null,
      "outputs": []
    },
    {
      "cell_type": "code",
      "source": [
        "df.shape"
      ],
      "metadata": {
        "colab": {
          "base_uri": "https://localhost:8080/"
        },
        "id": "-q6zgLKTKJUj",
        "outputId": "a4b6a4ef-d67a-473d-f622-e6d76559c58d"
      },
      "execution_count": null,
      "outputs": [
        {
          "output_type": "execute_result",
          "data": {
            "text/plain": [
              "(5572, 2)"
            ]
          },
          "metadata": {},
          "execution_count": 7
        }
      ]
    },
    {
      "cell_type": "code",
      "source": [
        "# Сформируем общий словарь для обучения моделей из обучающей и тестовой выборки\n",
        "vocab_list = df['Message'].tolist()\n",
        "vocab_list[1:10]"
      ],
      "metadata": {
        "colab": {
          "base_uri": "https://localhost:8080/"
        },
        "id": "6t6p3xOxKJN6",
        "outputId": "0a3b7373-bf9d-4a52-e496-a78893a22c02"
      },
      "execution_count": null,
      "outputs": [
        {
          "output_type": "execute_result",
          "data": {
            "text/plain": [
              "['Ok lar... Joking wif u oni...',\n",
              " \"Free entry in 2 a wkly comp to win FA Cup final tkts 21st May 2005. Text FA to 87121 to receive entry question(std txt rate)T&C's apply 08452810075over18's\",\n",
              " 'U dun say so early hor... U c already then say...',\n",
              " \"Nah I don't think he goes to usf, he lives around here though\",\n",
              " \"FreeMsg Hey there darling it's been 3 week's now and no word back! I'd like some fun you up for it still? Tb ok! XxX std chgs to send, £1.50 to rcv\",\n",
              " 'Even my brother is not like to speak with me. They treat me like aids patent.',\n",
              " \"As per your request 'Melle Melle (Oru Minnaminunginte Nurungu Vettam)' has been set as your callertune for all Callers. Press *9 to copy your friends Callertune\",\n",
              " 'WINNER!! As a valued network customer you have been selected to receivea £900 prize reward! To claim call 09061701461. Claim code KL341. Valid 12 hours only.',\n",
              " 'Had your mobile 11 months or more? U R entitled to Update to the latest colour mobiles with camera for Free! Call The Mobile Update Co FREE on 08002986030']"
            ]
          },
          "metadata": {},
          "execution_count": 8
        }
      ]
    },
    {
      "cell_type": "code",
      "source": [
        "vocabVect = CountVectorizer()\n",
        "vocabVect.fit(vocab_list)\n",
        "corpusVocab = vocabVect.vocabulary_\n",
        "print('Количество сформированных признаков - {}'.format(len(corpusVocab)))"
      ],
      "metadata": {
        "colab": {
          "base_uri": "https://localhost:8080/"
        },
        "id": "lF6jFNy2LKiI",
        "outputId": "3216e44e-2efb-40d8-850e-eb3a58e4662b"
      },
      "execution_count": null,
      "outputs": [
        {
          "output_type": "stream",
          "name": "stdout",
          "text": [
            "Количество сформированных признаков - 8709\n"
          ]
        }
      ]
    },
    {
      "cell_type": "code",
      "source": [
        "for i in list(corpusVocab)[1:10]:\n",
        "    print('{}={}'.format(i, corpusVocab[i]))"
      ],
      "metadata": {
        "colab": {
          "base_uri": "https://localhost:8080/"
        },
        "id": "gWgySLOhLL9O",
        "outputId": "777e43ab-bb41-4a3e-de4d-6e82d0befdae"
      },
      "execution_count": null,
      "outputs": [
        {
          "output_type": "stream",
          "name": "stdout",
          "text": [
            "until=8080\n",
            "jurong=4370\n",
            "point=5954\n",
            "crazy=2334\n",
            "available=1313\n",
            "only=5567\n",
            "in=4110\n",
            "bugis=1763\n",
            "great=3651\n"
          ]
        }
      ]
    },
    {
      "cell_type": "code",
      "source": [
        "tfidfv = TfidfVectorizer(ngram_range=(1,3))\n",
        "tfidf_ngram_features = tfidfv.fit_transform(vocab_list)\n",
        "tfidf_ngram_features"
      ],
      "metadata": {
        "colab": {
          "base_uri": "https://localhost:8080/"
        },
        "id": "szLy86jmKJFV",
        "outputId": "00fe3053-03d3-45cf-acf0-d0a496baa2d0"
      },
      "execution_count": null,
      "outputs": [
        {
          "output_type": "execute_result",
          "data": {
            "text/plain": [
              "<5572x104934 sparse matrix of type '<class 'numpy.float64'>'\n",
              "\twith 217339 stored elements in Compressed Sparse Row format>"
            ]
          },
          "metadata": {},
          "execution_count": 11
        }
      ]
    },
    {
      "cell_type": "code",
      "source": [
        "tfidf_ngram_features.todense()"
      ],
      "metadata": {
        "colab": {
          "base_uri": "https://localhost:8080/"
        },
        "id": "R4eYpmzIKJC9",
        "outputId": "2cda47ad-2a24-4638-8d5c-f4c4707fcfe8"
      },
      "execution_count": null,
      "outputs": [
        {
          "output_type": "execute_result",
          "data": {
            "text/plain": [
              "matrix([[0., 0., 0., ..., 0., 0., 0.],\n",
              "        [0., 0., 0., ..., 0., 0., 0.],\n",
              "        [0., 0., 0., ..., 0., 0., 0.],\n",
              "        ...,\n",
              "        [0., 0., 0., ..., 0., 0., 0.],\n",
              "        [0., 0., 0., ..., 0., 0., 0.],\n",
              "        [0., 0., 0., ..., 0., 0., 0.]])"
            ]
          },
          "metadata": {},
          "execution_count": 12
        }
      ]
    },
    {
      "cell_type": "code",
      "source": [
        "# Размер нулевой строки\n",
        "len(tfidf_ngram_features.todense()[0].getA1())"
      ],
      "metadata": {
        "colab": {
          "base_uri": "https://localhost:8080/"
        },
        "id": "yYKYh4YRKJAN",
        "outputId": "05c0e9ef-2d24-4794-c736-400a0fa571c3"
      },
      "execution_count": null,
      "outputs": [
        {
          "output_type": "execute_result",
          "data": {
            "text/plain": [
              "104934"
            ]
          },
          "metadata": {},
          "execution_count": 15
        }
      ]
    },
    {
      "cell_type": "code",
      "source": [
        "# Непустые значения нулевой строки\n",
        "[i for i in tfidf_ngram_features.todense()[0].getA1() if i>0]"
      ],
      "metadata": {
        "colab": {
          "base_uri": "https://localhost:8080/"
        },
        "id": "ZrdSFnbGKI90",
        "outputId": "4f1e0f6b-0a46-4112-b439-9965635d492a"
      },
      "execution_count": null,
      "outputs": [
        {
          "output_type": "execute_result",
          "data": {
            "text/plain": [
              "[0.1537647471633528,\n",
              " 0.1537647471633528,\n",
              " 0.11501101620597226,\n",
              " 0.1537647471633528,\n",
              " 0.1537647471633528,\n",
              " 0.14678507188449502,\n",
              " 0.1537647471633528,\n",
              " 0.1537647471633528,\n",
              " 0.12990107976500484,\n",
              " 0.1537647471633528,\n",
              " 0.1537647471633528,\n",
              " 0.12990107976500484,\n",
              " 0.1537647471633528,\n",
              " 0.1537647471633528,\n",
              " 0.11908021199485914,\n",
              " 0.1537647471633528,\n",
              " 0.1537647471633528,\n",
              " 0.06964712666694571,\n",
              " 0.1537647471633528,\n",
              " 0.1537647471633528,\n",
              " 0.07208549828613442,\n",
              " 0.1537647471633528,\n",
              " 0.1537647471633528,\n",
              " 0.08493973105393231,\n",
              " 0.1537647471633528,\n",
              " 0.1537647471633528,\n",
              " 0.050435116339348454,\n",
              " 0.1537647471633528,\n",
              " 0.1537647471633528,\n",
              " 0.1537647471633528,\n",
              " 0.1537647471633528,\n",
              " 0.1537647471633528,\n",
              " 0.12990107976500484,\n",
              " 0.1537647471633528,\n",
              " 0.1537647471633528,\n",
              " 0.07365148623113625,\n",
              " 0.14678507188449502,\n",
              " 0.1537647471633528,\n",
              " 0.12026785509880393,\n",
              " 0.1537647471633528,\n",
              " 0.1537647471633528,\n",
              " 0.07324643231209632,\n",
              " 0.1537647471633528,\n",
              " 0.1537647471633528,\n",
              " 0.10833602139962993,\n",
              " 0.1537647471633528,\n",
              " 0.1537647471633528,\n",
              " 0.08591436854273743,\n",
              " 0.10400989550811528,\n",
              " 0.1537647471633528,\n",
              " 0.1537647471633528]"
            ]
          },
          "metadata": {},
          "execution_count": 16
        }
      ]
    },
    {
      "cell_type": "code",
      "source": [
        "def VectorizeAndClassify(vectorizers_list, classifiers_list):\n",
        "    for v in vectorizers_list:\n",
        "        for c in classifiers_list:\n",
        "            pipeline1 = Pipeline([(\"vectorizer\", v), (\"classifier\", c)])\n",
        "            score = cross_val_score(pipeline1, df['Message'], df['Spam'], scoring='accuracy', cv=3).mean()\n",
        "            print('Векторизация - {}'.format(v))\n",
        "            print('Модель для классификации - {}'.format(c))\n",
        "            print('Accuracy = {}'.format(score))\n",
        "            print('===========================')"
      ],
      "metadata": {
        "id": "pso3N-_NFP_6"
      },
      "execution_count": null,
      "outputs": []
    },
    {
      "cell_type": "code",
      "source": [
        "vectorizers_list = [TfidfVectorizer(vocabulary = corpusVocab)]\n",
        "classifiers_list = [LogisticRegression(C=3.0), LinearSVC(), KNeighborsClassifier()]\n",
        "VectorizeAndClassify(vectorizers_list, classifiers_list)"
      ],
      "metadata": {
        "colab": {
          "base_uri": "https://localhost:8080/"
        },
        "id": "T_rc2ksxK2gw",
        "outputId": "a28ce2f3-4998-4dbe-85f4-aad506334200"
      },
      "execution_count": null,
      "outputs": [
        {
          "output_type": "stream",
          "name": "stdout",
          "text": [
            "Векторизация - TfidfVectorizer(vocabulary={'00': 0, '000': 1, '000pes': 2, '008704050406': 3,\n",
            "                            '0089': 4, '0121': 5, '01223585236': 6,\n",
            "                            '01223585334': 7, '0125698789': 8, '02': 9,\n",
            "                            '0207': 10, '02072069400': 11, '02073162414': 12,\n",
            "                            '02085076972': 13, '021': 14, '03': 15, '04': 16,\n",
            "                            '0430': 17, '05': 18, '050703': 19, '0578': 20,\n",
            "                            '06': 21, '07': 22, '07008009200': 23,\n",
            "                            '07046744435': 24, '07090201529': 25,\n",
            "                            '07090298926': 26, '07099833605': 27,\n",
            "                            '07123456789': 28, '0721072': 29, ...})\n",
            "Модель для классификации - LogisticRegression(C=3.0)\n",
            "Accuracy = 0.9712851555775054\n",
            "===========================\n",
            "Векторизация - TfidfVectorizer(vocabulary={'00': 0, '000': 1, '000pes': 2, '008704050406': 3,\n",
            "                            '0089': 4, '0121': 5, '01223585236': 6,\n",
            "                            '01223585334': 7, '0125698789': 8, '02': 9,\n",
            "                            '0207': 10, '02072069400': 11, '02073162414': 12,\n",
            "                            '02085076972': 13, '021': 14, '03': 15, '04': 16,\n",
            "                            '0430': 17, '05': 18, '050703': 19, '0578': 20,\n",
            "                            '06': 21, '07': 22, '07008009200': 23,\n",
            "                            '07046744435': 24, '07090201529': 25,\n",
            "                            '07090298926': 26, '07099833605': 27,\n",
            "                            '07123456789': 28, '0721072': 29, ...})\n",
            "Модель для классификации - LinearSVC()\n",
            "Accuracy = 0.9798994639895708\n",
            "===========================\n",
            "Векторизация - TfidfVectorizer(vocabulary={'00': 0, '000': 1, '000pes': 2, '008704050406': 3,\n",
            "                            '0089': 4, '0121': 5, '01223585236': 6,\n",
            "                            '01223585334': 7, '0125698789': 8, '02': 9,\n",
            "                            '0207': 10, '02072069400': 11, '02073162414': 12,\n",
            "                            '02085076972': 13, '021': 14, '03': 15, '04': 16,\n",
            "                            '0430': 17, '05': 18, '050703': 19, '0578': 20,\n",
            "                            '06': 21, '07': 22, '07008009200': 23,\n",
            "                            '07046744435': 24, '07090201529': 25,\n",
            "                            '07090298926': 26, '07099833605': 27,\n",
            "                            '07123456789': 28, '0721072': 29, ...})\n",
            "Модель для классификации - KNeighborsClassifier()\n",
            "Accuracy = 0.924806089662772\n",
            "===========================\n"
          ]
        }
      ]
    },
    {
      "cell_type": "markdown",
      "source": [
        "**Разделим выборку на обучающую и тестовую и проверим решение для лучшей модели**"
      ],
      "metadata": {
        "id": "Kny998oaMNBZ"
      }
    },
    {
      "cell_type": "code",
      "source": [
        "X_train, X_test, y_train, y_test = train_test_split(df['Message'], df['Spam'], test_size=0.5, random_state=1)"
      ],
      "metadata": {
        "id": "dMpMTiBHMIBt"
      },
      "execution_count": null,
      "outputs": []
    },
    {
      "cell_type": "code",
      "source": [
        "def spam(v, c):\n",
        "    model = Pipeline(\n",
        "        [(\"vectorizer\", v), \n",
        "         (\"classifier\", c)])\n",
        "    model.fit(X_train, y_train)\n",
        "    y_pred = model.predict(X_test)\n",
        "    print_accuracy_score_for_classes(y_test, y_pred)"
      ],
      "metadata": {
        "id": "jgdaNQ9SMH_6"
      },
      "execution_count": null,
      "outputs": []
    },
    {
      "cell_type": "code",
      "source": [
        "spam(TfidfVectorizer(), LinearSVC())"
      ],
      "metadata": {
        "colab": {
          "base_uri": "https://localhost:8080/"
        },
        "id": "G3D6hoSyMH9f",
        "outputId": "5f741963-e585-497b-f51c-ee06182cc7c2"
      },
      "execution_count": null,
      "outputs": [
        {
          "output_type": "stream",
          "name": "stdout",
          "text": [
            "Метка \t Accuracy\n",
            "0 \t 0.9970869746150645\n",
            "1 \t 0.9007832898172323\n"
          ]
        }
      ]
    },
    {
      "cell_type": "code",
      "source": [
        "spam(TfidfVectorizer(ngram_range=(1,3)), LinearSVC())"
      ],
      "metadata": {
        "colab": {
          "base_uri": "https://localhost:8080/"
        },
        "id": "AAQ9YLhhMH6-",
        "outputId": "51459768-6958-49cc-a076-cf1dc5308802"
      },
      "execution_count": null,
      "outputs": [
        {
          "output_type": "stream",
          "name": "stdout",
          "text": [
            "Метка \t Accuracy\n",
            "0 \t 0.9966708281315023\n",
            "1 \t 0.9190600522193212\n"
          ]
        }
      ]
    },
    {
      "cell_type": "code",
      "source": [
        "spam(TfidfVectorizer(ngram_range=(2,3)), LinearSVC())"
      ],
      "metadata": {
        "colab": {
          "base_uri": "https://localhost:8080/"
        },
        "id": "zNcYDtgJMH4R",
        "outputId": "d87f1084-df82-4c0b-ac43-dab2e1f4723a"
      },
      "execution_count": null,
      "outputs": [
        {
          "output_type": "stream",
          "name": "stdout",
          "text": [
            "Метка \t Accuracy\n",
            "0 \t 0.9991677070328756\n",
            "1 \t 0.6945169712793734\n"
          ]
        }
      ]
    },
    {
      "cell_type": "code",
      "source": [
        "spam(TfidfVectorizer(ngram_range=(1,4)),LinearSVC())"
      ],
      "metadata": {
        "colab": {
          "base_uri": "https://localhost:8080/"
        },
        "id": "TfcguXQHMH1Z",
        "outputId": "728ef815-23f1-4c1c-f534-fcdce0e0fe6c"
      },
      "execution_count": null,
      "outputs": [
        {
          "output_type": "stream",
          "name": "stdout",
          "text": [
            "Метка \t Accuracy\n",
            "0 \t 0.9970869746150645\n",
            "1 \t 0.9138381201044387\n"
          ]
        }
      ]
    },
    {
      "cell_type": "code",
      "source": [
        "spam(TfidfVectorizer(ngram_range=(2,4)), LinearSVC())"
      ],
      "metadata": {
        "colab": {
          "base_uri": "https://localhost:8080/"
        },
        "id": "JITH937gMbsO",
        "outputId": "d4a73e63-421c-42c9-d7b3-ab437573a575"
      },
      "execution_count": null,
      "outputs": [
        {
          "output_type": "stream",
          "name": "stdout",
          "text": [
            "Метка \t Accuracy\n",
            "0 \t 0.9995838535164377\n",
            "1 \t 0.6736292428198434\n"
          ]
        }
      ]
    },
    {
      "cell_type": "markdown",
      "source": [
        "## word2vec"
      ],
      "metadata": {
        "id": "1SHkPQTjM83h"
      }
    },
    {
      "cell_type": "code",
      "source": [
        "import gensim\n",
        "from gensim.models import word2vec\n",
        "import re\n",
        "import pandas as pd\n",
        "import numpy as np\n",
        "from typing import Dict, Tuple\n",
        "from sklearn.metrics import accuracy_score, balanced_accuracy_score\n",
        "from sklearn.feature_extraction.text import CountVectorizer, TfidfVectorizer\n",
        "from sklearn.linear_model import LogisticRegression\n",
        "from sklearn.pipeline import Pipeline\n",
        "from nltk import WordPunctTokenizer\n",
        "from nltk.corpus import stopwords\n",
        "import nltk\n",
        "nltk.download('stopwords')"
      ],
      "metadata": {
        "colab": {
          "base_uri": "https://localhost:8080/"
        },
        "id": "F1X8S6coMlX7",
        "outputId": "40a87a1b-2714-4a27-df4e-43673edf5a94"
      },
      "execution_count": null,
      "outputs": [
        {
          "output_type": "stream",
          "name": "stdout",
          "text": [
            "[nltk_data] Downloading package stopwords to /root/nltk_data...\n",
            "[nltk_data]   Unzipping corpora/stopwords.zip.\n"
          ]
        },
        {
          "output_type": "execute_result",
          "data": {
            "text/plain": [
              "True"
            ]
          },
          "metadata": {},
          "execution_count": 27
        }
      ]
    },
    {
      "cell_type": "code",
      "source": [
        "model_path = '/content/drive/MyDrive/datasets/ruscorpora_mystem_cbow_300_2_2015.bin.gz'"
      ],
      "metadata": {
        "id": "A6X_Tv-FMlVt"
      },
      "execution_count": null,
      "outputs": []
    },
    {
      "cell_type": "code",
      "source": [
        "model = gensim.models.KeyedVectors.load_word2vec_format(model_path, binary=True)"
      ],
      "metadata": {
        "id": "Vn1f1sAcMlS8"
      },
      "execution_count": null,
      "outputs": []
    },
    {
      "cell_type": "code",
      "source": [
        "# Подготовим корпус\n",
        "corpus = []\n",
        "stop_words = stopwords.words('english')\n",
        "tok = WordPunctTokenizer()\n",
        "for line in df['Message'].values:\n",
        "    line1 = line.strip().lower()\n",
        "    line1 = re.sub(\"[^a-zA-Z]\",\" \", line1)\n",
        "    text_tok = tok.tokenize(line1)\n",
        "    text_tok1 = [w for w in text_tok if not w in stop_words]\n",
        "    corpus.append(text_tok1)"
      ],
      "metadata": {
        "id": "Dxb1diNbNs7d"
      },
      "execution_count": null,
      "outputs": []
    },
    {
      "cell_type": "code",
      "source": [
        "corpus[:5]"
      ],
      "metadata": {
        "colab": {
          "base_uri": "https://localhost:8080/"
        },
        "id": "HbYFhJlJNwo-",
        "outputId": "f1230587-f8e3-4273-aa71-aa272c1e4e23"
      },
      "execution_count": null,
      "outputs": [
        {
          "output_type": "execute_result",
          "data": {
            "text/plain": [
              "[['go',\n",
              "  'jurong',\n",
              "  'point',\n",
              "  'crazy',\n",
              "  'available',\n",
              "  'bugis',\n",
              "  'n',\n",
              "  'great',\n",
              "  'world',\n",
              "  'la',\n",
              "  'e',\n",
              "  'buffet',\n",
              "  'cine',\n",
              "  'got',\n",
              "  'amore',\n",
              "  'wat'],\n",
              " ['ok', 'lar', 'joking', 'wif', 'u', 'oni'],\n",
              " ['free',\n",
              "  'entry',\n",
              "  'wkly',\n",
              "  'comp',\n",
              "  'win',\n",
              "  'fa',\n",
              "  'cup',\n",
              "  'final',\n",
              "  'tkts',\n",
              "  'st',\n",
              "  'may',\n",
              "  'text',\n",
              "  'fa',\n",
              "  'receive',\n",
              "  'entry',\n",
              "  'question',\n",
              "  'std',\n",
              "  'txt',\n",
              "  'rate',\n",
              "  'c',\n",
              "  'apply'],\n",
              " ['u', 'dun', 'say', 'early', 'hor', 'u', 'c', 'already', 'say'],\n",
              " ['nah', 'think', 'goes', 'usf', 'lives', 'around', 'though']]"
            ]
          },
          "metadata": {},
          "execution_count": 31
        }
      ]
    },
    {
      "cell_type": "code",
      "source": [
        "# количество текстов в корпусе не изменилось и соответствует целевому признаку\n",
        "assert df.shape[0]==len(corpus)"
      ],
      "metadata": {
        "id": "0uZIMAjsNyI4"
      },
      "execution_count": null,
      "outputs": []
    },
    {
      "cell_type": "code",
      "source": [
        "%time model_spam = word2vec.Word2Vec(corpus, workers=4, min_count=10, window=10, sample=1e-3)"
      ],
      "metadata": {
        "colab": {
          "base_uri": "https://localhost:8080/"
        },
        "id": "Nqg5dwV2Nz3f",
        "outputId": "f129dba2-8078-463d-c20d-0b9d404325d1"
      },
      "execution_count": null,
      "outputs": [
        {
          "output_type": "stream",
          "name": "stdout",
          "text": [
            "CPU times: user 625 ms, sys: 6.48 ms, total: 632 ms\n",
            "Wall time: 469 ms\n"
          ]
        }
      ]
    },
    {
      "cell_type": "code",
      "source": [
        "# Проверим, что модель обучилась\n",
        "print(model_spam.wv.most_similar(positive=['find'], topn=5))"
      ],
      "metadata": {
        "colab": {
          "base_uri": "https://localhost:8080/"
        },
        "id": "ZEXep4j7Nz0m",
        "outputId": "48b5768c-44cc-46b0-b230-70fe98db6dbb"
      },
      "execution_count": null,
      "outputs": [
        {
          "output_type": "stream",
          "name": "stdout",
          "text": [
            "[('someone', 0.9998855590820312), ('may', 0.9998782873153687), ('days', 0.9998677372932434), ('today', 0.9998652935028076), ('could', 0.9998582601547241)]\n"
          ]
        }
      ]
    },
    {
      "cell_type": "code",
      "source": [
        "class EmbeddingVectorizer(object):\n",
        "    '''\n",
        "    Для текста усредним вектора входящих в него слов\n",
        "    '''\n",
        "    def __init__(self, model):\n",
        "        self.model = model\n",
        "        self.size = model.vector_size\n",
        "\n",
        "    def fit(self, X, y):\n",
        "        return self\n",
        "\n",
        "    def transform(self, X):\n",
        "        return np.array([np.mean(\n",
        "            [self.model[w] for w in words if w in self.model] \n",
        "            or [np.zeros(self.size)], axis=0)\n",
        "            for words in X])"
      ],
      "metadata": {
        "id": "Za8yB1qGOeqh"
      },
      "execution_count": null,
      "outputs": []
    },
    {
      "cell_type": "code",
      "source": [
        "def spam(v, c):\n",
        "    model = Pipeline(\n",
        "        [(\"vectorizer\", v), \n",
        "         (\"classifier\", c)])\n",
        "    model.fit(X_train, y_train)\n",
        "    y_pred = model.predict(X_test)\n",
        "    print_accuracy_score_for_classes(y_test, y_pred)"
      ],
      "metadata": {
        "id": "a47Ji1cpOenp"
      },
      "execution_count": null,
      "outputs": []
    },
    {
      "cell_type": "code",
      "source": [
        "class EmbeddingVectorizer(object):\n",
        "    '''\n",
        "    Для текста усредним вектора входящих в него слов\n",
        "    '''\n",
        "    def __init__(self, model):\n",
        "        self.model = model\n",
        "        self.size = model.vector_size\n",
        "\n",
        "    def fit(self, X, y):\n",
        "        return self\n",
        "\n",
        "    def transform(self, X):\n",
        "        return np.array([np.mean(\n",
        "            [self.model[w] for w in words if w in self.model] \n",
        "            or [np.zeros(self.size)], axis=0)\n",
        "            for words in X])"
      ],
      "metadata": {
        "id": "40-LMRh5OeWZ"
      },
      "execution_count": null,
      "outputs": []
    },
    {
      "cell_type": "code",
      "source": [
        "def accuracy_score_for_classes(\n",
        "    y_true: np.ndarray, \n",
        "    y_pred: np.ndarray) -> Dict[int, float]:\n",
        "    \"\"\"\n",
        "    Вычисление метрики accuracy для каждого класса\n",
        "    y_true - истинные значения классов\n",
        "    y_pred - предсказанные значения классов\n",
        "    Возвращает словарь: ключ - метка класса, \n",
        "    значение - Accuracy для данного класса\n",
        "    \"\"\"\n",
        "    # Для удобства фильтрации сформируем Pandas DataFrame \n",
        "    d = {'t': y_true, 'p': y_pred}\n",
        "    df = pd.DataFrame(data=d)\n",
        "    # Метки классов\n",
        "    classes = np.unique(y_true)\n",
        "    # Результирующий словарь\n",
        "    res = dict()\n",
        "    # Перебор меток классов\n",
        "    for c in classes:\n",
        "        # отфильтруем данные, которые соответствуют \n",
        "        # текущей метке класса в истинных значениях\n",
        "        temp_data_flt = df[df['t']==c]\n",
        "        # расчет accuracy для заданной метки класса\n",
        "        temp_acc = accuracy_score(\n",
        "            temp_data_flt['t'].values, \n",
        "            temp_data_flt['p'].values)\n",
        "        # сохранение результата в словарь\n",
        "        res[c] = temp_acc\n",
        "    return res\n",
        "\n",
        "def print_accuracy_score_for_classes(\n",
        "    y_true: np.ndarray, \n",
        "    y_pred: np.ndarray):\n",
        "    \"\"\"\n",
        "    Вывод метрики accuracy для каждого класса\n",
        "    \"\"\"\n",
        "    accs = accuracy_score_for_classes(y_true, y_pred)\n",
        "    if len(accs)>0:\n",
        "        print('Метка \\t Accuracy')\n",
        "    for i in accs:\n",
        "        print('{} \\t {}'.format(i, accs[i]))"
      ],
      "metadata": {
        "id": "nWbFtV84OMla"
      },
      "execution_count": null,
      "outputs": []
    },
    {
      "cell_type": "code",
      "source": [
        "# Обучающая и тестовая выборки\n",
        "boundary = 4500\n",
        "X_train = corpus[:boundary] \n",
        "X_test = corpus[boundary:]\n",
        "y_train = df.Spam.values[:boundary]\n",
        "y_test = df.Spam.values[boundary:]"
      ],
      "metadata": {
        "id": "1R176c4GOMjP"
      },
      "execution_count": null,
      "outputs": []
    },
    {
      "cell_type": "code",
      "source": [
        "spam(EmbeddingVectorizer(model_spam.wv), LinearSVC())"
      ],
      "metadata": {
        "colab": {
          "base_uri": "https://localhost:8080/"
        },
        "id": "g2YetufhOMh6",
        "outputId": "30c493e0-860c-4e27-c1ba-f79a7cc31c3b"
      },
      "execution_count": null,
      "outputs": [
        {
          "output_type": "stream",
          "name": "stdout",
          "text": [
            "Метка \t Accuracy\n",
            "0 \t 0.9892588614393125\n",
            "1 \t 0.6170212765957447\n"
          ]
        }
      ]
    },
    {
      "cell_type": "code",
      "source": [
        "spam(TfidfVectorizer(ngram_range=(1,3)), LinearSVC())"
      ],
      "metadata": {
        "colab": {
          "base_uri": "https://localhost:8080/"
        },
        "id": "GfLynNwGOMg5",
        "outputId": "417bffa2-2ae0-4ea9-87d8-dc590c9ede2d"
      },
      "execution_count": null,
      "outputs": [
        {
          "output_type": "stream",
          "name": "stdout",
          "text": [
            "Метка \t Accuracy\n",
            "0 \t 0.9966708281315023\n",
            "1 \t 0.9190600522193212\n"
          ]
        }
      ]
    },
    {
      "cell_type": "markdown",
      "source": [
        "Как видно из результатов проверки качества моделей, лучшее качество показал TfidfVectorizer"
      ],
      "metadata": {
        "id": "7WxkthDCQEN1"
      }
    },
    {
      "cell_type": "code",
      "source": [
        ""
      ],
      "metadata": {
        "id": "Ttq8-m-EOMVG"
      },
      "execution_count": null,
      "outputs": []
    },
    {
      "cell_type": "code",
      "source": [
        ""
      ],
      "metadata": {
        "id": "Btslk9azOMSh"
      },
      "execution_count": null,
      "outputs": []
    },
    {
      "cell_type": "code",
      "source": [
        ""
      ],
      "metadata": {
        "id": "RalMrX9qOMP3"
      },
      "execution_count": null,
      "outputs": []
    },
    {
      "cell_type": "code",
      "source": [
        ""
      ],
      "metadata": {
        "id": "B7jvEfSAOMM_"
      },
      "execution_count": null,
      "outputs": []
    },
    {
      "cell_type": "code",
      "source": [
        ""
      ],
      "metadata": {
        "id": "7HUQUZ4COMFf"
      },
      "execution_count": null,
      "outputs": []
    }
  ]
}